{
  "nbformat": 4,
  "nbformat_minor": 0,
  "metadata": {
    "colab": {
      "provenance": []
    },
    "kernelspec": {
      "name": "python3",
      "display_name": "Python 3"
    },
    "language_info": {
      "name": "python"
    }
  },
  "cells": [
    {
      "cell_type": "markdown",
      "source": [
        "1. How to load data?\n",
        "2. How to work on csv / tsv file?\n",
        "3. Basic Statistics on Data.\n",
        "4. Data Cleaning with each column.\n",
        "5. Choice description\n",
        "6. Regular Expression\n",
        "7. Solve some questions from dataset."
      ],
      "metadata": {
        "id": "PlyALpwjgo95"
      }
    },
    {
      "cell_type": "code",
      "execution_count": null,
      "metadata": {
        "id": "0y72Yb4BgfXt"
      },
      "outputs": [],
      "source": [
        "# importing libraries\n",
        "import numpy as np\n",
        "import pandas as pd\n"
      ]
    },
    {
      "cell_type": "markdown",
      "source": [
        "## Read Data"
      ],
      "metadata": {
        "id": "XH2L1GcGiOoJ"
      }
    },
    {
      "cell_type": "code",
      "source": [
        "df = pd.read_csv(\"/content/chipotle.tsv\",sep='\\t')\n",
        "df"
      ],
      "metadata": {
        "colab": {
          "base_uri": "https://localhost:8080/",
          "height": 424
        },
        "id": "piKXH_dqitqZ",
        "outputId": "2ef0dc38-582e-41f5-b2e0-120900651feb"
      },
      "execution_count": 11,
      "outputs": [
        {
          "output_type": "execute_result",
          "data": {
            "text/plain": [
              "      order_id  quantity                              item_name  \\\n",
              "0            1         1           Chips and Fresh Tomato Salsa   \n",
              "1            1         1                                   Izze   \n",
              "2            1         1                       Nantucket Nectar   \n",
              "3            1         1  Chips and Tomatillo-Green Chili Salsa   \n",
              "4            2         2                           Chicken Bowl   \n",
              "...        ...       ...                                    ...   \n",
              "4617      1833         1                          Steak Burrito   \n",
              "4618      1833         1                          Steak Burrito   \n",
              "4619      1834         1                     Chicken Salad Bowl   \n",
              "4620      1834         1                     Chicken Salad Bowl   \n",
              "4621      1834         1                     Chicken Salad Bowl   \n",
              "\n",
              "                                     choice_description item_price  \n",
              "0                                                   NaN     $2.39   \n",
              "1                                          [Clementine]     $3.39   \n",
              "2                                               [Apple]     $3.39   \n",
              "3                                                   NaN     $2.39   \n",
              "4     [Tomatillo-Red Chili Salsa (Hot), [Black Beans...    $16.98   \n",
              "...                                                 ...        ...  \n",
              "4617  [Fresh Tomato Salsa, [Rice, Black Beans, Sour ...    $11.75   \n",
              "4618  [Fresh Tomato Salsa, [Rice, Sour Cream, Cheese...    $11.75   \n",
              "4619  [Fresh Tomato Salsa, [Fajita Vegetables, Pinto...    $11.25   \n",
              "4620  [Fresh Tomato Salsa, [Fajita Vegetables, Lettu...     $8.75   \n",
              "4621  [Fresh Tomato Salsa, [Fajita Vegetables, Pinto...     $8.75   \n",
              "\n",
              "[4622 rows x 5 columns]"
            ],
            "text/html": [
              "\n",
              "  <div id=\"df-e51a415d-0ac4-4e5e-b3cd-a824c3d0166e\" class=\"colab-df-container\">\n",
              "    <div>\n",
              "<style scoped>\n",
              "    .dataframe tbody tr th:only-of-type {\n",
              "        vertical-align: middle;\n",
              "    }\n",
              "\n",
              "    .dataframe tbody tr th {\n",
              "        vertical-align: top;\n",
              "    }\n",
              "\n",
              "    .dataframe thead th {\n",
              "        text-align: right;\n",
              "    }\n",
              "</style>\n",
              "<table border=\"1\" class=\"dataframe\">\n",
              "  <thead>\n",
              "    <tr style=\"text-align: right;\">\n",
              "      <th></th>\n",
              "      <th>order_id</th>\n",
              "      <th>quantity</th>\n",
              "      <th>item_name</th>\n",
              "      <th>choice_description</th>\n",
              "      <th>item_price</th>\n",
              "    </tr>\n",
              "  </thead>\n",
              "  <tbody>\n",
              "    <tr>\n",
              "      <th>0</th>\n",
              "      <td>1</td>\n",
              "      <td>1</td>\n",
              "      <td>Chips and Fresh Tomato Salsa</td>\n",
              "      <td>NaN</td>\n",
              "      <td>$2.39</td>\n",
              "    </tr>\n",
              "    <tr>\n",
              "      <th>1</th>\n",
              "      <td>1</td>\n",
              "      <td>1</td>\n",
              "      <td>Izze</td>\n",
              "      <td>[Clementine]</td>\n",
              "      <td>$3.39</td>\n",
              "    </tr>\n",
              "    <tr>\n",
              "      <th>2</th>\n",
              "      <td>1</td>\n",
              "      <td>1</td>\n",
              "      <td>Nantucket Nectar</td>\n",
              "      <td>[Apple]</td>\n",
              "      <td>$3.39</td>\n",
              "    </tr>\n",
              "    <tr>\n",
              "      <th>3</th>\n",
              "      <td>1</td>\n",
              "      <td>1</td>\n",
              "      <td>Chips and Tomatillo-Green Chili Salsa</td>\n",
              "      <td>NaN</td>\n",
              "      <td>$2.39</td>\n",
              "    </tr>\n",
              "    <tr>\n",
              "      <th>4</th>\n",
              "      <td>2</td>\n",
              "      <td>2</td>\n",
              "      <td>Chicken Bowl</td>\n",
              "      <td>[Tomatillo-Red Chili Salsa (Hot), [Black Beans...</td>\n",
              "      <td>$16.98</td>\n",
              "    </tr>\n",
              "    <tr>\n",
              "      <th>...</th>\n",
              "      <td>...</td>\n",
              "      <td>...</td>\n",
              "      <td>...</td>\n",
              "      <td>...</td>\n",
              "      <td>...</td>\n",
              "    </tr>\n",
              "    <tr>\n",
              "      <th>4617</th>\n",
              "      <td>1833</td>\n",
              "      <td>1</td>\n",
              "      <td>Steak Burrito</td>\n",
              "      <td>[Fresh Tomato Salsa, [Rice, Black Beans, Sour ...</td>\n",
              "      <td>$11.75</td>\n",
              "    </tr>\n",
              "    <tr>\n",
              "      <th>4618</th>\n",
              "      <td>1833</td>\n",
              "      <td>1</td>\n",
              "      <td>Steak Burrito</td>\n",
              "      <td>[Fresh Tomato Salsa, [Rice, Sour Cream, Cheese...</td>\n",
              "      <td>$11.75</td>\n",
              "    </tr>\n",
              "    <tr>\n",
              "      <th>4619</th>\n",
              "      <td>1834</td>\n",
              "      <td>1</td>\n",
              "      <td>Chicken Salad Bowl</td>\n",
              "      <td>[Fresh Tomato Salsa, [Fajita Vegetables, Pinto...</td>\n",
              "      <td>$11.25</td>\n",
              "    </tr>\n",
              "    <tr>\n",
              "      <th>4620</th>\n",
              "      <td>1834</td>\n",
              "      <td>1</td>\n",
              "      <td>Chicken Salad Bowl</td>\n",
              "      <td>[Fresh Tomato Salsa, [Fajita Vegetables, Lettu...</td>\n",
              "      <td>$8.75</td>\n",
              "    </tr>\n",
              "    <tr>\n",
              "      <th>4621</th>\n",
              "      <td>1834</td>\n",
              "      <td>1</td>\n",
              "      <td>Chicken Salad Bowl</td>\n",
              "      <td>[Fresh Tomato Salsa, [Fajita Vegetables, Pinto...</td>\n",
              "      <td>$8.75</td>\n",
              "    </tr>\n",
              "  </tbody>\n",
              "</table>\n",
              "<p>4622 rows × 5 columns</p>\n",
              "</div>\n",
              "    <div class=\"colab-df-buttons\">\n",
              "\n",
              "  <div class=\"colab-df-container\">\n",
              "    <button class=\"colab-df-convert\" onclick=\"convertToInteractive('df-e51a415d-0ac4-4e5e-b3cd-a824c3d0166e')\"\n",
              "            title=\"Convert this dataframe to an interactive table.\"\n",
              "            style=\"display:none;\">\n",
              "\n",
              "  <svg xmlns=\"http://www.w3.org/2000/svg\" height=\"24px\" viewBox=\"0 -960 960 960\">\n",
              "    <path d=\"M120-120v-720h720v720H120Zm60-500h600v-160H180v160Zm220 220h160v-160H400v160Zm0 220h160v-160H400v160ZM180-400h160v-160H180v160Zm440 0h160v-160H620v160ZM180-180h160v-160H180v160Zm440 0h160v-160H620v160Z\"/>\n",
              "  </svg>\n",
              "    </button>\n",
              "\n",
              "  <style>\n",
              "    .colab-df-container {\n",
              "      display:flex;\n",
              "      gap: 12px;\n",
              "    }\n",
              "\n",
              "    .colab-df-convert {\n",
              "      background-color: #E8F0FE;\n",
              "      border: none;\n",
              "      border-radius: 50%;\n",
              "      cursor: pointer;\n",
              "      display: none;\n",
              "      fill: #1967D2;\n",
              "      height: 32px;\n",
              "      padding: 0 0 0 0;\n",
              "      width: 32px;\n",
              "    }\n",
              "\n",
              "    .colab-df-convert:hover {\n",
              "      background-color: #E2EBFA;\n",
              "      box-shadow: 0px 1px 2px rgba(60, 64, 67, 0.3), 0px 1px 3px 1px rgba(60, 64, 67, 0.15);\n",
              "      fill: #174EA6;\n",
              "    }\n",
              "\n",
              "    .colab-df-buttons div {\n",
              "      margin-bottom: 4px;\n",
              "    }\n",
              "\n",
              "    [theme=dark] .colab-df-convert {\n",
              "      background-color: #3B4455;\n",
              "      fill: #D2E3FC;\n",
              "    }\n",
              "\n",
              "    [theme=dark] .colab-df-convert:hover {\n",
              "      background-color: #434B5C;\n",
              "      box-shadow: 0px 1px 3px 1px rgba(0, 0, 0, 0.15);\n",
              "      filter: drop-shadow(0px 1px 2px rgba(0, 0, 0, 0.3));\n",
              "      fill: #FFFFFF;\n",
              "    }\n",
              "  </style>\n",
              "\n",
              "    <script>\n",
              "      const buttonEl =\n",
              "        document.querySelector('#df-e51a415d-0ac4-4e5e-b3cd-a824c3d0166e button.colab-df-convert');\n",
              "      buttonEl.style.display =\n",
              "        google.colab.kernel.accessAllowed ? 'block' : 'none';\n",
              "\n",
              "      async function convertToInteractive(key) {\n",
              "        const element = document.querySelector('#df-e51a415d-0ac4-4e5e-b3cd-a824c3d0166e');\n",
              "        const dataTable =\n",
              "          await google.colab.kernel.invokeFunction('convertToInteractive',\n",
              "                                                    [key], {});\n",
              "        if (!dataTable) return;\n",
              "\n",
              "        const docLinkHtml = 'Like what you see? Visit the ' +\n",
              "          '<a target=\"_blank\" href=https://colab.research.google.com/notebooks/data_table.ipynb>data table notebook</a>'\n",
              "          + ' to learn more about interactive tables.';\n",
              "        element.innerHTML = '';\n",
              "        dataTable['output_type'] = 'display_data';\n",
              "        await google.colab.output.renderOutput(dataTable, element);\n",
              "        const docLink = document.createElement('div');\n",
              "        docLink.innerHTML = docLinkHtml;\n",
              "        element.appendChild(docLink);\n",
              "      }\n",
              "    </script>\n",
              "  </div>\n",
              "\n",
              "\n",
              "<div id=\"df-56c92bef-375c-4ec5-924a-2d634d3f5d6d\">\n",
              "  <button class=\"colab-df-quickchart\" onclick=\"quickchart('df-56c92bef-375c-4ec5-924a-2d634d3f5d6d')\"\n",
              "            title=\"Suggest charts\"\n",
              "            style=\"display:none;\">\n",
              "\n",
              "<svg xmlns=\"http://www.w3.org/2000/svg\" height=\"24px\"viewBox=\"0 0 24 24\"\n",
              "     width=\"24px\">\n",
              "    <g>\n",
              "        <path d=\"M19 3H5c-1.1 0-2 .9-2 2v14c0 1.1.9 2 2 2h14c1.1 0 2-.9 2-2V5c0-1.1-.9-2-2-2zM9 17H7v-7h2v7zm4 0h-2V7h2v10zm4 0h-2v-4h2v4z\"/>\n",
              "    </g>\n",
              "</svg>\n",
              "  </button>\n",
              "\n",
              "<style>\n",
              "  .colab-df-quickchart {\n",
              "      --bg-color: #E8F0FE;\n",
              "      --fill-color: #1967D2;\n",
              "      --hover-bg-color: #E2EBFA;\n",
              "      --hover-fill-color: #174EA6;\n",
              "      --disabled-fill-color: #AAA;\n",
              "      --disabled-bg-color: #DDD;\n",
              "  }\n",
              "\n",
              "  [theme=dark] .colab-df-quickchart {\n",
              "      --bg-color: #3B4455;\n",
              "      --fill-color: #D2E3FC;\n",
              "      --hover-bg-color: #434B5C;\n",
              "      --hover-fill-color: #FFFFFF;\n",
              "      --disabled-bg-color: #3B4455;\n",
              "      --disabled-fill-color: #666;\n",
              "  }\n",
              "\n",
              "  .colab-df-quickchart {\n",
              "    background-color: var(--bg-color);\n",
              "    border: none;\n",
              "    border-radius: 50%;\n",
              "    cursor: pointer;\n",
              "    display: none;\n",
              "    fill: var(--fill-color);\n",
              "    height: 32px;\n",
              "    padding: 0;\n",
              "    width: 32px;\n",
              "  }\n",
              "\n",
              "  .colab-df-quickchart:hover {\n",
              "    background-color: var(--hover-bg-color);\n",
              "    box-shadow: 0 1px 2px rgba(60, 64, 67, 0.3), 0 1px 3px 1px rgba(60, 64, 67, 0.15);\n",
              "    fill: var(--button-hover-fill-color);\n",
              "  }\n",
              "\n",
              "  .colab-df-quickchart-complete:disabled,\n",
              "  .colab-df-quickchart-complete:disabled:hover {\n",
              "    background-color: var(--disabled-bg-color);\n",
              "    fill: var(--disabled-fill-color);\n",
              "    box-shadow: none;\n",
              "  }\n",
              "\n",
              "  .colab-df-spinner {\n",
              "    border: 2px solid var(--fill-color);\n",
              "    border-color: transparent;\n",
              "    border-bottom-color: var(--fill-color);\n",
              "    animation:\n",
              "      spin 1s steps(1) infinite;\n",
              "  }\n",
              "\n",
              "  @keyframes spin {\n",
              "    0% {\n",
              "      border-color: transparent;\n",
              "      border-bottom-color: var(--fill-color);\n",
              "      border-left-color: var(--fill-color);\n",
              "    }\n",
              "    20% {\n",
              "      border-color: transparent;\n",
              "      border-left-color: var(--fill-color);\n",
              "      border-top-color: var(--fill-color);\n",
              "    }\n",
              "    30% {\n",
              "      border-color: transparent;\n",
              "      border-left-color: var(--fill-color);\n",
              "      border-top-color: var(--fill-color);\n",
              "      border-right-color: var(--fill-color);\n",
              "    }\n",
              "    40% {\n",
              "      border-color: transparent;\n",
              "      border-right-color: var(--fill-color);\n",
              "      border-top-color: var(--fill-color);\n",
              "    }\n",
              "    60% {\n",
              "      border-color: transparent;\n",
              "      border-right-color: var(--fill-color);\n",
              "    }\n",
              "    80% {\n",
              "      border-color: transparent;\n",
              "      border-right-color: var(--fill-color);\n",
              "      border-bottom-color: var(--fill-color);\n",
              "    }\n",
              "    90% {\n",
              "      border-color: transparent;\n",
              "      border-bottom-color: var(--fill-color);\n",
              "    }\n",
              "  }\n",
              "</style>\n",
              "\n",
              "  <script>\n",
              "    async function quickchart(key) {\n",
              "      const quickchartButtonEl =\n",
              "        document.querySelector('#' + key + ' button');\n",
              "      quickchartButtonEl.disabled = true;  // To prevent multiple clicks.\n",
              "      quickchartButtonEl.classList.add('colab-df-spinner');\n",
              "      try {\n",
              "        const charts = await google.colab.kernel.invokeFunction(\n",
              "            'suggestCharts', [key], {});\n",
              "      } catch (error) {\n",
              "        console.error('Error during call to suggestCharts:', error);\n",
              "      }\n",
              "      quickchartButtonEl.classList.remove('colab-df-spinner');\n",
              "      quickchartButtonEl.classList.add('colab-df-quickchart-complete');\n",
              "    }\n",
              "    (() => {\n",
              "      let quickchartButtonEl =\n",
              "        document.querySelector('#df-56c92bef-375c-4ec5-924a-2d634d3f5d6d button');\n",
              "      quickchartButtonEl.style.display =\n",
              "        google.colab.kernel.accessAllowed ? 'block' : 'none';\n",
              "    })();\n",
              "  </script>\n",
              "</div>\n",
              "\n",
              "  <div id=\"id_c8f72020-75f6-4041-91cb-0c77ffff444e\">\n",
              "    <style>\n",
              "      .colab-df-generate {\n",
              "        background-color: #E8F0FE;\n",
              "        border: none;\n",
              "        border-radius: 50%;\n",
              "        cursor: pointer;\n",
              "        display: none;\n",
              "        fill: #1967D2;\n",
              "        height: 32px;\n",
              "        padding: 0 0 0 0;\n",
              "        width: 32px;\n",
              "      }\n",
              "\n",
              "      .colab-df-generate:hover {\n",
              "        background-color: #E2EBFA;\n",
              "        box-shadow: 0px 1px 2px rgba(60, 64, 67, 0.3), 0px 1px 3px 1px rgba(60, 64, 67, 0.15);\n",
              "        fill: #174EA6;\n",
              "      }\n",
              "\n",
              "      [theme=dark] .colab-df-generate {\n",
              "        background-color: #3B4455;\n",
              "        fill: #D2E3FC;\n",
              "      }\n",
              "\n",
              "      [theme=dark] .colab-df-generate:hover {\n",
              "        background-color: #434B5C;\n",
              "        box-shadow: 0px 1px 3px 1px rgba(0, 0, 0, 0.15);\n",
              "        filter: drop-shadow(0px 1px 2px rgba(0, 0, 0, 0.3));\n",
              "        fill: #FFFFFF;\n",
              "      }\n",
              "    </style>\n",
              "    <button class=\"colab-df-generate\" onclick=\"generateWithVariable('df')\"\n",
              "            title=\"Generate code using this dataframe.\"\n",
              "            style=\"display:none;\">\n",
              "\n",
              "  <svg xmlns=\"http://www.w3.org/2000/svg\" height=\"24px\"viewBox=\"0 0 24 24\"\n",
              "       width=\"24px\">\n",
              "    <path d=\"M7,19H8.4L18.45,9,17,7.55,7,17.6ZM5,21V16.75L18.45,3.32a2,2,0,0,1,2.83,0l1.4,1.43a1.91,1.91,0,0,1,.58,1.4,1.91,1.91,0,0,1-.58,1.4L9.25,21ZM18.45,9,17,7.55Zm-12,3A5.31,5.31,0,0,0,4.9,8.1,5.31,5.31,0,0,0,1,6.5,5.31,5.31,0,0,0,4.9,4.9,5.31,5.31,0,0,0,6.5,1,5.31,5.31,0,0,0,8.1,4.9,5.31,5.31,0,0,0,12,6.5,5.46,5.46,0,0,0,6.5,12Z\"/>\n",
              "  </svg>\n",
              "    </button>\n",
              "    <script>\n",
              "      (() => {\n",
              "      const buttonEl =\n",
              "        document.querySelector('#id_c8f72020-75f6-4041-91cb-0c77ffff444e button.colab-df-generate');\n",
              "      buttonEl.style.display =\n",
              "        google.colab.kernel.accessAllowed ? 'block' : 'none';\n",
              "\n",
              "      buttonEl.onclick = () => {\n",
              "        google.colab.notebook.generateWithVariable('df');\n",
              "      }\n",
              "      })();\n",
              "    </script>\n",
              "  </div>\n",
              "\n",
              "    </div>\n",
              "  </div>\n"
            ]
          },
          "metadata": {},
          "execution_count": 11
        }
      ]
    },
    {
      "cell_type": "code",
      "source": [
        "# Checking for missing values in each column\n",
        "missing_values = df.isnull().sum()\n",
        "\n",
        "# Displaying the results\n",
        "print(\"Missing Values:\\n\", missing_values)\n"
      ],
      "metadata": {
        "colab": {
          "base_uri": "https://localhost:8080/"
        },
        "id": "3N-BBXWnLJ_i",
        "outputId": "5b74524e-d85b-4a94-ddef-f4c9c205d680"
      },
      "execution_count": 15,
      "outputs": [
        {
          "output_type": "stream",
          "name": "stdout",
          "text": [
            "Missing Values:\n",
            " order_id                 0\n",
            "quantity                 0\n",
            "item_name                0\n",
            "choice_description    1246\n",
            "item_price               0\n",
            "dtype: int64\n"
          ]
        }
      ]
    },
    {
      "cell_type": "code",
      "source": [
        "df = df.dropna()"
      ],
      "metadata": {
        "id": "ZdOFkUi8LKCa"
      },
      "execution_count": 17,
      "outputs": []
    },
    {
      "cell_type": "markdown",
      "source": [
        "1. Missing Values"
      ],
      "metadata": {
        "id": "hVs38xj8Mgxt"
      }
    },
    {
      "cell_type": "code",
      "source": [
        "# Displaying the column names\n",
        "print(\"Column Names:\\n\", df.columns)\n",
        "\n",
        "# Checking for missing values in each column\n",
        "missing_values = df.isnull().sum()\n",
        "\n",
        "# Displaying the results\n",
        "print(\"Missing Values:\\n\", missing_values)\n",
        "\n",
        "# Assuming the correct column names are 'quantity' and 'choice_description'\n",
        "# Fill missing values in a numeric column with the mean\n",
        "df['quantity'].fillna(df['quantity'].mean(), inplace=True)\n",
        "\n",
        "# Fill missing values in a non-numeric column with a placeholder\n",
        "df['choice_description'].fillna('No description', inplace=True)\n"
      ],
      "metadata": {
        "colab": {
          "base_uri": "https://localhost:8080/"
        },
        "id": "gVig4A9rL3rX",
        "outputId": "e504c3ae-2d94-4680-9cc9-8c63230fdeba"
      },
      "execution_count": 20,
      "outputs": [
        {
          "output_type": "stream",
          "name": "stdout",
          "text": [
            "Column Names:\n",
            " Index(['order_id', 'quantity', 'item_name', 'choice_description',\n",
            "       'item_price'],\n",
            "      dtype='object')\n",
            "Missing Values:\n",
            " order_id              0\n",
            "quantity              0\n",
            "item_name             0\n",
            "choice_description    0\n",
            "item_price            0\n",
            "dtype: int64\n"
          ]
        }
      ]
    },
    {
      "cell_type": "markdown",
      "source": [
        "2. Data Types"
      ],
      "metadata": {
        "id": "joy7lNe_M7Ac"
      }
    },
    {
      "cell_type": "code",
      "source": [
        "data_types = df.dtypes\n",
        "print(\"Data Types:\\n\", data_types)\n"
      ],
      "metadata": {
        "colab": {
          "base_uri": "https://localhost:8080/"
        },
        "id": "FTILr-2xMn9i",
        "outputId": "af79d762-b1bb-4cdd-dd08-cd42db1019a8"
      },
      "execution_count": 21,
      "outputs": [
        {
          "output_type": "stream",
          "name": "stdout",
          "text": [
            "Data Types:\n",
            " order_id               int64\n",
            "quantity               int64\n",
            "item_name             object\n",
            "choice_description    object\n",
            "item_price            object\n",
            "dtype: object\n"
          ]
        }
      ]
    },
    {
      "cell_type": "markdown",
      "source": [
        "3. Duplicated Entries"
      ],
      "metadata": {
        "id": "D20LzBiUNIrn"
      }
    },
    {
      "cell_type": "code",
      "source": [
        "duplicates = df.duplicated().sum()\n",
        "# Display the number of duplicated entries\n",
        "print(\"Number of Duplicated Entries:\", duplicates)\n",
        "# Drop duplicates\n",
        "df.drop_duplicates(inplace=True)\n",
        "# Display the shape of the DataFrame after removing duplicates\n",
        "print(\"Shape of DataFrame after removing duplicates:\", df.shape)"
      ],
      "metadata": {
        "colab": {
          "base_uri": "https://localhost:8080/"
        },
        "id": "zZDHN4vbMoNq",
        "outputId": "197c5b6a-ec4e-4feb-df06-804f7ce585b1"
      },
      "execution_count": 22,
      "outputs": [
        {
          "output_type": "stream",
          "name": "stdout",
          "text": [
            "Number of Duplicated Entries: 59\n",
            "Shape of DataFrame after removing duplicates: (4563, 5)\n"
          ]
        }
      ]
    },
    {
      "cell_type": "markdown",
      "source": [
        "4. Quantity and Item Price"
      ],
      "metadata": {
        "id": "5fIVfMvCNnUN"
      }
    },
    {
      "cell_type": "code",
      "source": [
        "# Displaying summary statistics for Quantity and Item Price columns\n",
        "print(\"Summary Statistics for Quantity:\\n\", df['quantity'].describe())\n",
        "print(\"\\nSummary Statistics for Item Price:\\n\", df['item_price'].describe())\n",
        "\n",
        "# Checking for unique values and their counts in Quantity and Item Price columns\n",
        "print(\"\\nUnique Values and Counts for Quantity:\\n\", df['quantity'].value_counts())\n",
        "print(\"\\nUnique Values and Counts for Item Price:\\n\", df['item_price'].value_counts())\n",
        "\n"
      ],
      "metadata": {
        "colab": {
          "base_uri": "https://localhost:8080/"
        },
        "id": "qq0C6hedMoan",
        "outputId": "22c431c6-2c6c-4497-b682-4589ab546b9d"
      },
      "execution_count": 27,
      "outputs": [
        {
          "output_type": "stream",
          "name": "stdout",
          "text": [
            "Summary Statistics for Quantity:\n",
            " count    4563.000000\n",
            "mean        1.076704\n",
            "std         0.412739\n",
            "min         1.000000\n",
            "25%         1.000000\n",
            "50%         1.000000\n",
            "75%         1.000000\n",
            "max        15.000000\n",
            "Name: quantity, dtype: float64\n",
            "\n",
            "Summary Statistics for Item Price:\n",
            " count       4563\n",
            "unique        78\n",
            "top       $8.75 \n",
            "freq         719\n",
            "Name: item_price, dtype: object\n",
            "\n",
            "Unique Values and Counts for Quantity:\n",
            " 1     4296\n",
            "2      224\n",
            "3       28\n",
            "4       10\n",
            "5        1\n",
            "15       1\n",
            "7        1\n",
            "8        1\n",
            "10       1\n",
            "Name: quantity, dtype: int64\n",
            "\n",
            "Unique Values and Counts for Item Price:\n",
            " $8.75      719\n",
            "$11.25     516\n",
            "$9.25      395\n",
            "$4.45      344\n",
            "$8.49      308\n",
            "          ... \n",
            "$13.35       1\n",
            "$7.50        1\n",
            "$4.36        1\n",
            "$32.94       1\n",
            "$11.49       1\n",
            "Name: item_price, Length: 78, dtype: int64\n"
          ]
        }
      ]
    },
    {
      "cell_type": "code",
      "source": [
        "df['item_price'] = df['item_price'].astype(str)\n",
        "\n",
        "# Remove the dollar sign and convert to numeric\n",
        "df['item_price'] = pd.to_numeric(df['item_price'].str.replace('$', ''), errors='coerce')\n",
        "\n",
        "# Display the updated DataFrame\n",
        "print(df.head())\n"
      ],
      "metadata": {
        "colab": {
          "base_uri": "https://localhost:8080/"
        },
        "id": "t8s4u0DsModq",
        "outputId": "01a42efe-39da-4e05-f529-9a970fcd541d"
      },
      "execution_count": 35,
      "outputs": [
        {
          "output_type": "stream",
          "name": "stdout",
          "text": [
            "   order_id  quantity                              item_name  \\\n",
            "0         1         1           Chips and Fresh Tomato Salsa   \n",
            "1         1         1                                   Izze   \n",
            "2         1         1                       Nantucket Nectar   \n",
            "3         1         1  Chips and Tomatillo-Green Chili Salsa   \n",
            "4         2         2                           Chicken Bowl   \n",
            "\n",
            "                                  choice_description  item_price  \n",
            "0                                     No description        2.39  \n",
            "1                                       [Clementine]        3.39  \n",
            "2                                            [Apple]        3.39  \n",
            "3                                     No description        2.39  \n",
            "4  [Tomatillo-Red Chili Salsa (Hot), [Black Beans...       16.98  \n"
          ]
        },
        {
          "output_type": "stream",
          "name": "stderr",
          "text": [
            "<ipython-input-35-b965c58e9ac6>:4: FutureWarning: The default value of regex will change from True to False in a future version. In addition, single character regular expressions will *not* be treated as literal strings when regex=True.\n",
            "  df['item_price'] = pd.to_numeric(df['item_price'].str.replace('$', ''), errors='coerce')\n"
          ]
        }
      ]
    },
    {
      "cell_type": "markdown",
      "source": [
        "5. Choice Description"
      ],
      "metadata": {
        "id": "IrCUNA_sPJET"
      }
    },
    {
      "cell_type": "code",
      "source": [
        "import pandas as pd\n",
        "\n",
        "# Read the TSV file with correct column names\n",
        "df = pd.read_csv('chipotle.tsv', sep='\\t')\n",
        "\n",
        "# Concatenate descriptions (assuming 'Item Name' column exists)\n",
        "df['Choice Description'] = df.groupby('Item Name')['Choice Description'].transform(lambda x: ', '.join(x))\n"
      ],
      "metadata": {
        "colab": {
          "base_uri": "https://localhost:8080/",
          "height": 382
        },
        "id": "XuIv-4JpMo1-",
        "outputId": "e7d14ff7-42ab-446b-b8f1-ff7b923aa65c"
      },
      "execution_count": 49,
      "outputs": [
        {
          "output_type": "error",
          "ename": "KeyError",
          "evalue": "ignored",
          "traceback": [
            "\u001b[0;31m---------------------------------------------------------------------------\u001b[0m",
            "\u001b[0;31mKeyError\u001b[0m                                  Traceback (most recent call last)",
            "\u001b[0;32m<ipython-input-49-f9f77d46b211>\u001b[0m in \u001b[0;36m<cell line: 7>\u001b[0;34m()\u001b[0m\n\u001b[1;32m      5\u001b[0m \u001b[0;34m\u001b[0m\u001b[0m\n\u001b[1;32m      6\u001b[0m \u001b[0;31m# Concatenate descriptions (assuming 'Item Name' column exists)\u001b[0m\u001b[0;34m\u001b[0m\u001b[0;34m\u001b[0m\u001b[0m\n\u001b[0;32m----> 7\u001b[0;31m \u001b[0mdf\u001b[0m\u001b[0;34m[\u001b[0m\u001b[0;34m'Choice Description'\u001b[0m\u001b[0;34m]\u001b[0m \u001b[0;34m=\u001b[0m \u001b[0mdf\u001b[0m\u001b[0;34m.\u001b[0m\u001b[0mgroupby\u001b[0m\u001b[0;34m(\u001b[0m\u001b[0;34m'Item Name'\u001b[0m\u001b[0;34m)\u001b[0m\u001b[0;34m[\u001b[0m\u001b[0;34m'Choice Description'\u001b[0m\u001b[0;34m]\u001b[0m\u001b[0;34m.\u001b[0m\u001b[0mtransform\u001b[0m\u001b[0;34m(\u001b[0m\u001b[0;32mlambda\u001b[0m \u001b[0mx\u001b[0m\u001b[0;34m:\u001b[0m \u001b[0;34m', '\u001b[0m\u001b[0;34m.\u001b[0m\u001b[0mjoin\u001b[0m\u001b[0;34m(\u001b[0m\u001b[0mx\u001b[0m\u001b[0;34m)\u001b[0m\u001b[0;34m)\u001b[0m\u001b[0;34m\u001b[0m\u001b[0;34m\u001b[0m\u001b[0m\n\u001b[0m",
            "\u001b[0;32m/usr/local/lib/python3.10/dist-packages/pandas/core/frame.py\u001b[0m in \u001b[0;36mgroupby\u001b[0;34m(self, by, axis, level, as_index, sort, group_keys, squeeze, observed, dropna)\u001b[0m\n\u001b[1;32m   8400\u001b[0m         \u001b[0maxis\u001b[0m \u001b[0;34m=\u001b[0m \u001b[0mself\u001b[0m\u001b[0;34m.\u001b[0m\u001b[0m_get_axis_number\u001b[0m\u001b[0;34m(\u001b[0m\u001b[0maxis\u001b[0m\u001b[0;34m)\u001b[0m\u001b[0;34m\u001b[0m\u001b[0;34m\u001b[0m\u001b[0m\n\u001b[1;32m   8401\u001b[0m \u001b[0;34m\u001b[0m\u001b[0m\n\u001b[0;32m-> 8402\u001b[0;31m         return DataFrameGroupBy(\n\u001b[0m\u001b[1;32m   8403\u001b[0m             \u001b[0mobj\u001b[0m\u001b[0;34m=\u001b[0m\u001b[0mself\u001b[0m\u001b[0;34m,\u001b[0m\u001b[0;34m\u001b[0m\u001b[0;34m\u001b[0m\u001b[0m\n\u001b[1;32m   8404\u001b[0m             \u001b[0mkeys\u001b[0m\u001b[0;34m=\u001b[0m\u001b[0mby\u001b[0m\u001b[0;34m,\u001b[0m\u001b[0;34m\u001b[0m\u001b[0;34m\u001b[0m\u001b[0m\n",
            "\u001b[0;32m/usr/local/lib/python3.10/dist-packages/pandas/core/groupby/groupby.py\u001b[0m in \u001b[0;36m__init__\u001b[0;34m(self, obj, keys, axis, level, grouper, exclusions, selection, as_index, sort, group_keys, squeeze, observed, mutated, dropna)\u001b[0m\n\u001b[1;32m    963\u001b[0m             \u001b[0;32mfrom\u001b[0m \u001b[0mpandas\u001b[0m\u001b[0;34m.\u001b[0m\u001b[0mcore\u001b[0m\u001b[0;34m.\u001b[0m\u001b[0mgroupby\u001b[0m\u001b[0;34m.\u001b[0m\u001b[0mgrouper\u001b[0m \u001b[0;32mimport\u001b[0m \u001b[0mget_grouper\u001b[0m\u001b[0;34m\u001b[0m\u001b[0;34m\u001b[0m\u001b[0m\n\u001b[1;32m    964\u001b[0m \u001b[0;34m\u001b[0m\u001b[0m\n\u001b[0;32m--> 965\u001b[0;31m             grouper, exclusions, obj = get_grouper(\n\u001b[0m\u001b[1;32m    966\u001b[0m                 \u001b[0mobj\u001b[0m\u001b[0;34m,\u001b[0m\u001b[0;34m\u001b[0m\u001b[0;34m\u001b[0m\u001b[0m\n\u001b[1;32m    967\u001b[0m                 \u001b[0mkeys\u001b[0m\u001b[0;34m,\u001b[0m\u001b[0;34m\u001b[0m\u001b[0;34m\u001b[0m\u001b[0m\n",
            "\u001b[0;32m/usr/local/lib/python3.10/dist-packages/pandas/core/groupby/grouper.py\u001b[0m in \u001b[0;36mget_grouper\u001b[0;34m(obj, key, axis, level, sort, observed, mutated, validate, dropna)\u001b[0m\n\u001b[1;32m    886\u001b[0m                 \u001b[0min_axis\u001b[0m\u001b[0;34m,\u001b[0m \u001b[0mlevel\u001b[0m\u001b[0;34m,\u001b[0m \u001b[0mgpr\u001b[0m \u001b[0;34m=\u001b[0m \u001b[0;32mFalse\u001b[0m\u001b[0;34m,\u001b[0m \u001b[0mgpr\u001b[0m\u001b[0;34m,\u001b[0m \u001b[0;32mNone\u001b[0m\u001b[0;34m\u001b[0m\u001b[0;34m\u001b[0m\u001b[0m\n\u001b[1;32m    887\u001b[0m             \u001b[0;32melse\u001b[0m\u001b[0;34m:\u001b[0m\u001b[0;34m\u001b[0m\u001b[0;34m\u001b[0m\u001b[0m\n\u001b[0;32m--> 888\u001b[0;31m                 \u001b[0;32mraise\u001b[0m \u001b[0mKeyError\u001b[0m\u001b[0;34m(\u001b[0m\u001b[0mgpr\u001b[0m\u001b[0;34m)\u001b[0m\u001b[0;34m\u001b[0m\u001b[0;34m\u001b[0m\u001b[0m\n\u001b[0m\u001b[1;32m    889\u001b[0m         \u001b[0;32melif\u001b[0m \u001b[0misinstance\u001b[0m\u001b[0;34m(\u001b[0m\u001b[0mgpr\u001b[0m\u001b[0;34m,\u001b[0m \u001b[0mGrouper\u001b[0m\u001b[0;34m)\u001b[0m \u001b[0;32mand\u001b[0m \u001b[0mgpr\u001b[0m\u001b[0;34m.\u001b[0m\u001b[0mkey\u001b[0m \u001b[0;32mis\u001b[0m \u001b[0;32mnot\u001b[0m \u001b[0;32mNone\u001b[0m\u001b[0;34m:\u001b[0m\u001b[0;34m\u001b[0m\u001b[0;34m\u001b[0m\u001b[0m\n\u001b[1;32m    890\u001b[0m             \u001b[0;31m# Add key to exclusions\u001b[0m\u001b[0;34m\u001b[0m\u001b[0;34m\u001b[0m\u001b[0m\n",
            "\u001b[0;31mKeyError\u001b[0m: 'Item Name'"
          ]
        }
      ]
    },
    {
      "cell_type": "markdown",
      "source": [
        "6. Handling Special Characters:\n"
      ],
      "metadata": {
        "id": "hk51POvpSIur"
      }
    },
    {
      "cell_type": "code",
      "source": [
        "\n",
        "special_chars_item_name = df[df['item_name'].str.contains(r'[^\\w\\s]', na=False)]\n",
        "\n",
        "# Check for special characters in the 'choice_description' column\n",
        "special_chars_choice_description = df[df['choice_description'].str.contains(r'[^\\w\\s]', na=False)]\n",
        "\n",
        "# Display rows with special characters in 'item_name' and 'choice_description'\n",
        "print(\"Rows with Special Characters in 'item_name':\\n\", special_chars_item_name)\n",
        "print(\"\\nRows with Special Characters in 'choice_description':\\n\", special_chars_choice_description)\n"
      ],
      "metadata": {
        "colab": {
          "base_uri": "https://localhost:8080/"
        },
        "id": "Cp1JE5DnPa1G",
        "outputId": "c1653d92-8696-494d-8b43-d6e2e1341994"
      },
      "execution_count": 50,
      "outputs": [
        {
          "output_type": "stream",
          "name": "stdout",
          "text": [
            "Rows with Special Characters in 'item_name':\n",
            "       order_id  quantity                              item_name  \\\n",
            "3            1         1  Chips and Tomatillo-Green Chili Salsa   \n",
            "15           8         1  Chips and Tomatillo-Green Chili Salsa   \n",
            "30          15         1  Chips and Tomatillo-Green Chili Salsa   \n",
            "113         50         1  Chips and Tomatillo-Green Chili Salsa   \n",
            "133         58         1  Chips and Tomatillo-Green Chili Salsa   \n",
            "...        ...       ...                                    ...   \n",
            "3810      1527         1  Chips and Tomatillo-Green Chili Salsa   \n",
            "3871      1552         1  Chips and Tomatillo-Green Chili Salsa   \n",
            "3905      1565         1     Chips and Roasted Chili-Corn Salsa   \n",
            "4007      1604         1  Chips and Tomatillo-Green Chili Salsa   \n",
            "4088      1637         1    Chips and Tomatillo-Red Chili Salsa   \n",
            "\n",
            "     choice_description item_price  \n",
            "3                   NaN     $2.39   \n",
            "15                  NaN     $2.39   \n",
            "30                  NaN     $2.39   \n",
            "113                 NaN     $2.39   \n",
            "133                 NaN     $2.39   \n",
            "...                 ...        ...  \n",
            "3810                NaN     $2.39   \n",
            "3871                NaN     $2.39   \n",
            "3905                NaN     $2.39   \n",
            "4007                NaN     $2.39   \n",
            "4088                NaN     $2.39   \n",
            "\n",
            "[69 rows x 5 columns]\n",
            "\n",
            "Rows with Special Characters in 'choice_description':\n",
            "       order_id  quantity           item_name  \\\n",
            "1            1         1                Izze   \n",
            "2            1         1    Nantucket Nectar   \n",
            "4            2         2        Chicken Bowl   \n",
            "5            3         1        Chicken Bowl   \n",
            "7            4         1       Steak Burrito   \n",
            "...        ...       ...                 ...   \n",
            "4617      1833         1       Steak Burrito   \n",
            "4618      1833         1       Steak Burrito   \n",
            "4619      1834         1  Chicken Salad Bowl   \n",
            "4620      1834         1  Chicken Salad Bowl   \n",
            "4621      1834         1  Chicken Salad Bowl   \n",
            "\n",
            "                                     choice_description item_price  \n",
            "1                                          [Clementine]     $3.39   \n",
            "2                                               [Apple]     $3.39   \n",
            "4     [Tomatillo-Red Chili Salsa (Hot), [Black Beans...    $16.98   \n",
            "5     [Fresh Tomato Salsa (Mild), [Rice, Cheese, Sou...    $10.98   \n",
            "7     [Tomatillo Red Chili Salsa, [Fajita Vegetables...    $11.75   \n",
            "...                                                 ...        ...  \n",
            "4617  [Fresh Tomato Salsa, [Rice, Black Beans, Sour ...    $11.75   \n",
            "4618  [Fresh Tomato Salsa, [Rice, Sour Cream, Cheese...    $11.75   \n",
            "4619  [Fresh Tomato Salsa, [Fajita Vegetables, Pinto...    $11.25   \n",
            "4620  [Fresh Tomato Salsa, [Fajita Vegetables, Lettu...     $8.75   \n",
            "4621  [Fresh Tomato Salsa, [Fajita Vegetables, Pinto...     $8.75   \n",
            "\n",
            "[3376 rows x 5 columns]\n"
          ]
        }
      ]
    },
    {
      "cell_type": "markdown",
      "source": [
        "7. Order Id Integrity"
      ],
      "metadata": {
        "id": "2312-NniS63W"
      }
    },
    {
      "cell_type": "code",
      "source": [
        "order_id_counts = df['order_id'].value_counts()\n",
        "# Display unique values and their counts in 'order_id'\n",
        "print(\"Unique Order IDs and Their Counts:\\n\", order_id_counts)\n",
        "# Check for any non-numeric values or patterns in 'order_id'\n",
        "non_numeric_order_ids = df[~df['order_id'].astype(str).str.isnumeric()]\n",
        "# Display rows with non-numeric 'order_id'\n",
        "print(\"\\nRows with Non-Numeric Order ID:\\n\", non_numeric_order_ids)\n"
      ],
      "metadata": {
        "colab": {
          "base_uri": "https://localhost:8080/"
        },
        "id": "iki-_sfbPbLs",
        "outputId": "e9b40f99-31f3-4785-9afe-fc492e9e4276"
      },
      "execution_count": 53,
      "outputs": [
        {
          "output_type": "stream",
          "name": "stdout",
          "text": [
            "Unique Order IDs and Their Counts:\n",
            " 926     23\n",
            "1483    14\n",
            "205     12\n",
            "759     11\n",
            "1786    11\n",
            "        ..\n",
            "768      1\n",
            "341      1\n",
            "1048     1\n",
            "94       1\n",
            "1199     1\n",
            "Name: order_id, Length: 1834, dtype: int64\n",
            "\n",
            "Rows with Non-Numeric Order ID:\n",
            " Empty DataFrame\n",
            "Columns: [order_id, quantity, item_name, choice_description, item_price]\n",
            "Index: []\n"
          ]
        }
      ]
    },
    {
      "cell_type": "markdown",
      "source": [
        "8. Item Name Standardization"
      ],
      "metadata": {
        "id": "waampQi5TXm6"
      }
    },
    {
      "cell_type": "code",
      "source": [
        "print(\"Unique Item Names:\\n\", df['item_name'].unique())\n",
        "\n",
        "# Create a mapping for standardization (add more mappings as needed)\n",
        "item_name_mapping = {\n",
        "    'Chicken Bowl': 'Chicken Bowl',\n",
        "    'Steak Burrito': 'Steak Burrito',\n",
        "    'Chips and Guacamole': 'Chips and Guacamole',\n",
        "    # Add more mappings for other variations\n",
        "}\n",
        "\n",
        "# Standardize the 'item_name' column\n",
        "df['standardized_item_name'] = df['item_name'].map(item_name_mapping)\n",
        "\n",
        "# Display unique values in the standardized column\n",
        "print(\"\\nUnique Standardized Item Names:\\n\", df['standardized_item_name'].unique())\n"
      ],
      "metadata": {
        "colab": {
          "base_uri": "https://localhost:8080/"
        },
        "id": "ge_pT2a2Sjuf",
        "outputId": "9a9ebf04-692a-4172-b215-1b35301c71c8"
      },
      "execution_count": 54,
      "outputs": [
        {
          "output_type": "stream",
          "name": "stdout",
          "text": [
            "Unique Item Names:\n",
            " ['Chips and Fresh Tomato Salsa' 'Izze' 'Nantucket Nectar'\n",
            " 'Chips and TomatilloGreen Chili Salsa' 'Chicken Bowl' 'Side of Chips'\n",
            " 'Steak Burrito' 'Steak Soft Tacos' 'Chips and Guacamole'\n",
            " 'Chicken Crispy Tacos' 'Chicken Soft Tacos' 'Chicken Burrito'\n",
            " 'Canned Soda' 'Barbacoa Burrito' 'Carnitas Burrito' 'Carnitas Bowl'\n",
            " 'Bottled Water' 'Chips and Tomatillo Green Chili Salsa' 'Barbacoa Bowl'\n",
            " 'Chips' 'Chicken Salad Bowl' 'Steak Bowl' 'Barbacoa Soft Tacos'\n",
            " 'Veggie Burrito' 'Veggie Bowl' 'Steak Crispy Tacos'\n",
            " 'Chips and Tomatillo Red Chili Salsa' 'Barbacoa Crispy Tacos'\n",
            " 'Veggie Salad Bowl' 'Chips and Roasted ChiliCorn Salsa'\n",
            " 'Chips and Roasted Chili Corn Salsa' 'Carnitas Soft Tacos'\n",
            " 'Chicken Salad' 'Canned Soft Drink' 'Steak Salad Bowl'\n",
            " '6 Pack Soft Drink' 'Chips and TomatilloRed Chili Salsa' 'Bowl' 'Burrito'\n",
            " 'Crispy Tacos' 'Carnitas Crispy Tacos' 'Steak Salad'\n",
            " 'Chips and Mild Fresh Tomato Salsa' 'Veggie Soft Tacos'\n",
            " 'Carnitas Salad Bowl' 'Barbacoa Salad Bowl' 'Salad' 'Veggie Crispy Tacos'\n",
            " 'Veggie Salad' 'Carnitas Salad']\n",
            "\n",
            "Unique Standardized Item Names:\n",
            " [nan 'Chicken Bowl' 'Steak Burrito' 'Chips and Guacamole']\n"
          ]
        }
      ]
    },
    {
      "cell_type": "markdown",
      "source": [
        "9. Quantity and Price Relationships"
      ],
      "metadata": {
        "id": "lPoYB4uNUBgi"
      }
    },
    {
      "cell_type": "code",
      "source": [
        "import pandas as pd\n",
        "import matplotlib.pyplot as plt\n",
        "import seaborn as sns\n",
        "df['item_price'] = pd.to_numeric(df['item_price'].str.replace('$', ''), errors='coerce')\n",
        "\n",
        "# Scatter plot to visualize the relationship between Quantity and Item Price\n",
        "plt.figure(figsize=(10, 6))\n",
        "sns.scatterplot(x='quantity', y='item_price', data=df)\n",
        "plt.title('Relationship between Quantity and Item Price')\n",
        "plt.xlabel('Quantity')\n",
        "plt.ylabel('Item Price ($)')\n",
        "plt.show()\n",
        "\n",
        "# Display summary statistics for Quantity and Item Price\n",
        "print(\"\\nSummary Statistics for Quantity:\\n\", df['quantity'].describe())\n",
        "print(\"\\nSummary Statistics for Item Price:\\n\", df['item_price'].describe())\n"
      ],
      "metadata": {
        "colab": {
          "base_uri": "https://localhost:8080/",
          "height": 1000
        },
        "id": "MbJ-ThubT8-l",
        "outputId": "1806b125-2075-4781-d450-aad0edd958d9"
      },
      "execution_count": 55,
      "outputs": [
        {
          "output_type": "stream",
          "name": "stderr",
          "text": [
            "<ipython-input-55-1dce672fe0ad>:4: FutureWarning: The default value of regex will change from True to False in a future version. In addition, single character regular expressions will *not* be treated as literal strings when regex=True.\n",
            "  df['item_price'] = pd.to_numeric(df['item_price'].str.replace('$', ''), errors='coerce')\n"
          ]
        },
        {
          "output_type": "display_data",
          "data": {
            "text/plain": [
              "<Figure size 1000x600 with 1 Axes>"
            ],
            "image/png": "[encoded data removed]"
          },
          "metadata": {}
        },
        {
          "output_type": "stream",
          "name": "stdout",
          "text": [
            "\n",
            "Summary Statistics for Quantity:\n",
            " count    4622.000000\n",
            "mean        1.075725\n",
            "std         0.410186\n",
            "min         1.000000\n",
            "25%         1.000000\n",
            "50%         1.000000\n",
            "75%         1.000000\n",
            "max        15.000000\n",
            "Name: quantity, dtype: float64\n",
            "\n",
            "Summary Statistics for Item Price:\n",
            " count    4622.000000\n",
            "mean        7.464336\n",
            "std         4.245557\n",
            "min         1.090000\n",
            "25%         3.390000\n",
            "50%         8.750000\n",
            "75%         9.250000\n",
            "max        44.250000\n",
            "Name: item_price, dtype: float64\n"
          ]
        }
      ]
    },
    {
      "cell_type": "markdown",
      "source": [
        "10. Data Integrity Check"
      ],
      "metadata": {
        "id": "ulJgnJMOUU2I"
      }
    },
    {
      "cell_type": "code",
      "source": [
        "# Group by item name and choice description and check the consistency of quantities and prices\n",
        "integrity_check = df.groupby(['item_name', 'choice_description']).agg({\n",
        "    'quantity': 'sum',\n",
        "    'item_price': 'mean'\n",
        "}).reset_index()\n",
        "\n",
        "# Display rows where the calculated quantity and mean item price do not match the original data\n",
        "inconsistent_rows = df.merge(integrity_check, on=['item_name', 'choice_description'], how='left', suffixes=('_original', '_calculated'))\n",
        "inconsistent_rows = inconsistent_rows[~((inconsistent_rows['quantity_original'] == inconsistent_rows['quantity_calculated']) &\n",
        "                                        (inconsistent_rows['item_price_original'] == inconsistent_rows['item_price_calculated']))]\n",
        "\n",
        "print(\"Inconsistent Rows:\\n\", inconsistent_rows)\n"
      ],
      "metadata": {
        "colab": {
          "base_uri": "https://localhost:8080/"
        },
        "id": "u-BYZdSvT9Mi",
        "outputId": "2f256732-e094-461c-d383-20c0291e05c3"
      },
      "execution_count": 57,
      "outputs": [
        {
          "output_type": "stream",
          "name": "stdout",
          "text": [
            "Inconsistent Rows:\n",
            "       order_id  quantity_original                             item_name  \\\n",
            "0            1                  1          Chips and Fresh Tomato Salsa   \n",
            "1            1                  1                                  Izze   \n",
            "2            1                  1                      Nantucket Nectar   \n",
            "3            1                  1  Chips and TomatilloGreen Chili Salsa   \n",
            "5            3                  1                          Chicken Bowl   \n",
            "...        ...                ...                                   ...   \n",
            "4617      1833                  1                         Steak Burrito   \n",
            "4618      1833                  1                         Steak Burrito   \n",
            "4619      1834                  1                    Chicken Salad Bowl   \n",
            "4620      1834                  1                    Chicken Salad Bowl   \n",
            "4621      1834                  1                    Chicken Salad Bowl   \n",
            "\n",
            "                                     choice_description  item_price_original  \\\n",
            "0                                                   NaN                 2.39   \n",
            "1                                            Clementine                 3.39   \n",
            "2                                                 Apple                 3.39   \n",
            "3                                                   NaN                 2.39   \n",
            "5     Fresh Tomato Salsa Mild Rice Cheese Sour Cream...                10.98   \n",
            "...                                                 ...                  ...   \n",
            "4617  Fresh Tomato Salsa Rice Black Beans Sour Cream...                11.75   \n",
            "4618  Fresh Tomato Salsa Rice Sour Cream Cheese Lett...                11.75   \n",
            "4619  Fresh Tomato Salsa Fajita Vegetables Pinto Bea...                11.25   \n",
            "4620       Fresh Tomato Salsa Fajita Vegetables Lettuce                 8.75   \n",
            "4621  Fresh Tomato Salsa Fajita Vegetables Pinto Bea...                 8.75   \n",
            "\n",
            "     standardized_item_name  quantity_calculated  item_price_calculated  \n",
            "0                       NaN                  NaN                    NaN  \n",
            "1                       NaN                  8.0                 3.3900  \n",
            "2                       NaN                  6.0                 3.3900  \n",
            "3                       NaN                  NaN                    NaN  \n",
            "5              Chicken Bowl                  2.0                10.9800  \n",
            "...                     ...                  ...                    ...  \n",
            "4617          Steak Burrito                  2.0                11.7500  \n",
            "4618          Steak Burrito                  2.0                11.7500  \n",
            "4619                    NaN                  3.0                11.2500  \n",
            "4620                    NaN                  4.0                 8.7500  \n",
            "4621                    NaN                  5.0                10.9375  \n",
            "\n",
            "[3234 rows x 8 columns]\n"
          ]
        }
      ]
    },
    {
      "cell_type": "markdown",
      "source": [
        "11. Converting to CSV"
      ],
      "metadata": {
        "id": "OaAQcP-9U9lj"
      }
    },
    {
      "cell_type": "code",
      "source": [
        "# Assuming df is the cleaned DataFrame\n",
        "cleaned_file_path = \"/content/cleaned_chipotle.csv\"\n",
        "df.to_csv(cleaned_file_path, index=False)\n",
        "\n",
        "print(\"Cleaned dataset has been saved to:\", cleaned_file_path)\n"
      ],
      "metadata": {
        "colab": {
          "base_uri": "https://localhost:8080/"
        },
        "id": "FjcASqyMT9Zo",
        "outputId": "0050855e-cf04-447f-d9e1-ae01a84794f3"
      },
      "execution_count": 60,
      "outputs": [
        {
          "output_type": "stream",
          "name": "stdout",
          "text": [
            "Cleaned dataset has been saved to: /content/cleaned_chipotle.csv\n"
          ]
        }
      ]
    },
    {
      "cell_type": "markdown",
      "source": [
        "12. Handling Categorical Data"
      ],
      "metadata": {
        "id": "9x3kMrkIVpMO"
      }
    },
    {
      "cell_type": "code",
      "source": [
        "df = pd.read_csv(\"/content/chipotle.tsv\", sep='\\t')\n",
        "\n",
        "# One-hot encode the 'item_name' column\n",
        "df_encoded = pd.get_dummies(df, columns=['item_name'], prefix='item')\n",
        "\n",
        "# Display the resulting DataFrame with one-hot encoding\n",
        "print(df_encoded.head())\n"
      ],
      "metadata": {
        "colab": {
          "base_uri": "https://localhost:8080/"
        },
        "id": "t-BI5dJZVlRj",
        "outputId": "c8d9ed03-e17a-46e3-cb03-24fc5e2121b0"
      },
      "execution_count": 61,
      "outputs": [
        {
          "output_type": "stream",
          "name": "stdout",
          "text": [
            "   order_id  quantity                                 choice_description  \\\n",
            "0         1         1                                                NaN   \n",
            "1         1         1                                       [Clementine]   \n",
            "2         1         1                                            [Apple]   \n",
            "3         1         1                                                NaN   \n",
            "4         2         2  [Tomatillo-Red Chili Salsa (Hot), [Black Beans...   \n",
            "\n",
            "  item_price  item_6 Pack Soft Drink  item_Barbacoa Bowl  \\\n",
            "0     $2.39                        0                   0   \n",
            "1     $3.39                        0                   0   \n",
            "2     $3.39                        0                   0   \n",
            "3     $2.39                        0                   0   \n",
            "4    $16.98                        0                   0   \n",
            "\n",
            "   item_Barbacoa Burrito  item_Barbacoa Crispy Tacos  \\\n",
            "0                      0                           0   \n",
            "1                      0                           0   \n",
            "2                      0                           0   \n",
            "3                      0                           0   \n",
            "4                      0                           0   \n",
            "\n",
            "   item_Barbacoa Salad Bowl  item_Barbacoa Soft Tacos  ...  \\\n",
            "0                         0                         0  ...   \n",
            "1                         0                         0  ...   \n",
            "2                         0                         0  ...   \n",
            "3                         0                         0  ...   \n",
            "4                         0                         0  ...   \n",
            "\n",
            "   item_Steak Crispy Tacos  item_Steak Salad  item_Steak Salad Bowl  \\\n",
            "0                        0                 0                      0   \n",
            "1                        0                 0                      0   \n",
            "2                        0                 0                      0   \n",
            "3                        0                 0                      0   \n",
            "4                        0                 0                      0   \n",
            "\n",
            "   item_Steak Soft Tacos  item_Veggie Bowl  item_Veggie Burrito  \\\n",
            "0                      0                 0                    0   \n",
            "1                      0                 0                    0   \n",
            "2                      0                 0                    0   \n",
            "3                      0                 0                    0   \n",
            "4                      0                 0                    0   \n",
            "\n",
            "   item_Veggie Crispy Tacos  item_Veggie Salad  item_Veggie Salad Bowl  \\\n",
            "0                         0                  0                       0   \n",
            "1                         0                  0                       0   \n",
            "2                         0                  0                       0   \n",
            "3                         0                  0                       0   \n",
            "4                         0                  0                       0   \n",
            "\n",
            "   item_Veggie Soft Tacos  \n",
            "0                       0  \n",
            "1                       0  \n",
            "2                       0  \n",
            "3                       0  \n",
            "4                       0  \n",
            "\n",
            "[5 rows x 54 columns]\n"
          ]
        }
      ]
    },
    {
      "cell_type": "markdown",
      "source": [
        "13. Consistent Quantity and Price Units"
      ],
      "metadata": {
        "id": "5ZCCPyBOWD7V"
      }
    },
    {
      "cell_type": "code",
      "source": [
        "# Display unique values in the 'quantity' column\n",
        "print(\"Unique Quantity Values:\\n\", df['quantity'].unique())\n",
        "# Display unique values in the 'item_price' column\n",
        "print(\"Unique Item Price Values:\\n\", df['item_price'].unique())\n",
        "# Verify consistency in 'quantity' and 'item_price' columns\n",
        "print(\"Unique Quantity Values After Adjustment:\\n\", df['quantity'].unique())\n",
        "print(\"Unique Item Price Values After Adjustment:\\n\", df['item_price'].unique())"
      ],
      "metadata": {
        "colab": {
          "base_uri": "https://localhost:8080/"
        },
        "id": "Lds-SID_V91z",
        "outputId": "3e5fe44e-426a-4963-f04d-135a2040eb8e"
      },
      "execution_count": 66,
      "outputs": [
        {
          "output_type": "stream",
          "name": "stdout",
          "text": [
            "Unique Quantity Values:\n",
            " [ 1  2  3  4  5 15  7  8 10]\n",
            "Unique Item Price Values:\n",
            " ['$2.39 ' '$3.39 ' '$16.98 ' '$10.98 ' '$1.69 ' '$11.75 ' '$9.25 '\n",
            " '$4.45 ' '$8.75 ' '$11.25 ' '$8.49 ' '$2.18 ' '$8.99 ' '$1.09 ' '$2.95 '\n",
            " '$2.15 ' '$3.99 ' '$22.50 ' '$11.48 ' '$17.98 ' '$17.50 ' '$4.30 '\n",
            " '$5.90 ' '$1.25 ' '$23.78 ' '$6.49 ' '$11.08 ' '$1.50 ' '$22.16 '\n",
            " '$32.94 ' '$22.20 ' '$10.58 ' '$2.50 ' '$23.50 ' '$7.40 ' '$18.50 '\n",
            " '$3.00 ' '$6.78 ' '$11.89 ' '$9.39 ' '$4.00 ' '$3.75 ' '$8.69 ' '$2.29 '\n",
            " '$8.90 ' '$3.27 ' '$3.89 ' '$8.19 ' '$35.00 ' '$27.75 ' '$11.80 '\n",
            " '$6.00 ' '$26.25 ' '$21.96 ' '$4.36 ' '$7.50 ' '$4.78 ' '$13.35 '\n",
            " '$6.45 ' '$5.07 ' '$22.96 ' '$7.17 ' '$7.98 ' '$4.50 ' '$26.07 '\n",
            " '$12.98 ' '$35.25 ' '$44.25 ' '$10.50 ' '$33.75 ' '$16.38 ' '$13.52 '\n",
            " '$5.00 ' '$15.00 ' '$8.50 ' '$17.80 ' '$1.99 ' '$11.49 ']\n",
            "Unique Quantity Values After Adjustment:\n",
            " [ 1  2  3  4  5 15  7  8 10]\n",
            "Unique Item Price Values After Adjustment:\n",
            " ['$2.39 ' '$3.39 ' '$16.98 ' '$10.98 ' '$1.69 ' '$11.75 ' '$9.25 '\n",
            " '$4.45 ' '$8.75 ' '$11.25 ' '$8.49 ' '$2.18 ' '$8.99 ' '$1.09 ' '$2.95 '\n",
            " '$2.15 ' '$3.99 ' '$22.50 ' '$11.48 ' '$17.98 ' '$17.50 ' '$4.30 '\n",
            " '$5.90 ' '$1.25 ' '$23.78 ' '$6.49 ' '$11.08 ' '$1.50 ' '$22.16 '\n",
            " '$32.94 ' '$22.20 ' '$10.58 ' '$2.50 ' '$23.50 ' '$7.40 ' '$18.50 '\n",
            " '$3.00 ' '$6.78 ' '$11.89 ' '$9.39 ' '$4.00 ' '$3.75 ' '$8.69 ' '$2.29 '\n",
            " '$8.90 ' '$3.27 ' '$3.89 ' '$8.19 ' '$35.00 ' '$27.75 ' '$11.80 '\n",
            " '$6.00 ' '$26.25 ' '$21.96 ' '$4.36 ' '$7.50 ' '$4.78 ' '$13.35 '\n",
            " '$6.45 ' '$5.07 ' '$22.96 ' '$7.17 ' '$7.98 ' '$4.50 ' '$26.07 '\n",
            " '$12.98 ' '$35.25 ' '$44.25 ' '$10.50 ' '$33.75 ' '$16.38 ' '$13.52 '\n",
            " '$5.00 ' '$15.00 ' '$8.50 ' '$17.80 ' '$1.99 ' '$11.49 ']\n"
          ]
        }
      ]
    },
    {
      "cell_type": "code",
      "source": [],
      "metadata": {
        "id": "ENROAYcCWsfm"
      },
      "execution_count": null,
      "outputs": []
    }
  ]
}