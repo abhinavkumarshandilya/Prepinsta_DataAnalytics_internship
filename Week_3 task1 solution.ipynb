{
  "nbformat": 4,
  "nbformat_minor": 0,
  "metadata": {
    "colab": {
      "provenance": []
    },
    "kernelspec": {
      "name": "python3",
      "display_name": "Python 3"
    },
    "language_info": {
      "name": "python"
    }
  },
  "cells": [
    {
      "cell_type": "markdown",
      "source": [
        "1. How to load data?\n",
        "2. How to work on csv / tsv file?\n",
        "3. Basic Statistics on Data.\n",
        "4. Data Cleaning with each column.\n",
        "5. Choice description\n",
        "6. Regular Expression\n",
        "7. Solve some questions from dataset."
      ],
      "metadata": {
        "id": "PlyALpwjgo95"
      }
    },
    {
      "cell_type": "markdown",
      "source": [
        "# DATA CLEANING PANDAS(TASK1)\n"
      ],
      "metadata": {
        "id": "kCbDgu0dKxjF"
      }
    },
    {
      "cell_type": "code",
      "execution_count": 1,
      "metadata": {
        "id": "0y72Yb4BgfXt"
      },
      "outputs": [],
      "source": [
        "# importing libraries\n",
        "import numpy as np\n",
        "import pandas as pd\n"
      ]
    },
    {
      "cell_type": "markdown",
      "source": [
        "## Read Data"
      ],
      "metadata": {
        "id": "XH2L1GcGiOoJ"
      }
    },
    {
      "cell_type": "markdown",
      "source": [
        "# New Section"
      ],
      "metadata": {
        "id": "Xw2w-eX2K1JL"
      }
    },
    {
      "cell_type": "code",
      "source": [
        "data = pd.read_csv(\"/content/Data-cleaning-for-beginners-using-pandas.csv\")\n"
      ],
      "metadata": {
        "id": "8-zdvFkoiNkZ"
      },
      "execution_count": 2,
      "outputs": []
    },
    {
      "cell_type": "code",
      "source": [
        "data"
      ],
      "metadata": {
        "colab": {
          "base_uri": "https://localhost:8080/",
          "height": 962
        },
        "id": "2oX4_3m2itP-",
        "outputId": "001fa8c2-3eb2-4053-d2b5-e2698879e2c4"
      },
      "execution_count": null,
      "outputs": [
        {
          "output_type": "execute_result",
          "data": {
            "text/plain": [
              "    Index   Age      Salary  Rating       Location  Established Easy Apply\n",
              "0       0  44.0   $44k-$99k     5.4       India,In         1999       TRUE\n",
              "1       1  66.0   $55k-$66k     3.5    New York,Ny         2002       TRUE\n",
              "2       2   NaN   $77k-$89k    -1.0    New York,Ny           -1         -1\n",
              "3       3  64.0   $44k-$99k     4.4       India In         1988         -1\n",
              "4       4  25.0   $44k-$99k     6.4  Australia Aus         2002         -1\n",
              "5       5  44.0   $77k-$89k     1.4       India,In         1999       TRUE\n",
              "6       6  21.0   $44k-$99k     0.0    New York,Ny           -1         -1\n",
              "7       7  44.0   $44k-$99k    -1.0  Australia Aus           -1         -1\n",
              "8       8  35.0   $44k-$99k     5.4    New York,Ny           -1         -1\n",
              "9       9  22.0   $44k-$99k     7.7       India,In           -1       TRUE\n",
              "10     10  55.0   $10k-$49k     5.4       India,In         2008       TRUE\n",
              "11     11  44.0   $10k-$49k     6.7       India,In         2009         -1\n",
              "12     12   NaN   $44k-$99k     0.0       India,In         1999         -1\n",
              "13     13  25.0   $44k-$99k    -1.0  Australia Aus         2019       TRUE\n",
              "14     14  66.0   $44k-$99k     4.0  Australia Aus         2020       TRUE\n",
              "15     15  44.0  $88k-$101k     3.0  Australia Aus         1999         -1\n",
              "16     16  19.0   $19k-$40k     4.5       India,In         1984         -1\n",
              "17     17   NaN   $44k-$99k     5.3    New York,Ny         1943       TRUE\n",
              "18     18  35.0   $44k-$99k     6.7    New York,Ny         1954       TRUE\n",
              "19     19  32.0   $44k-$99k     3.3    New York,Ny         1955       TRUE\n",
              "20     20   NaN   $44k-$99k     5.7    New York,Ny         1944       TRUE\n",
              "21     21  35.0   $44k-$99k     5.0    New York,Ny         1946         -1\n",
              "22     22  19.0   $55k-$66k     7.8    New York,Ny         1988       TRUE\n",
              "23     23   NaN   $44k-$99k     2.4    New York,Ny         1999       TRUE\n",
              "24     24  13.0   $44k-$99k    -1.0    New York,Ny         1987         -1\n",
              "25     25  55.0   $44k-$99k     0.0  Australia Aus         1980       TRUE\n",
              "26     26   NaN   $55k-$66k     NaN       India,In         1934       TRUE\n",
              "27     27  52.0   $44k-$99k     5.4       India,In         1935         -1\n",
              "28     28   NaN   $39k-$88k     3.4  Australia Aus         1932         -1"
            ],
            "text/html": [
              "\n",
              "  <div id=\"df-4d72ccb5-185d-4fbf-8439-0d8e58a8e484\" class=\"colab-df-container\">\n",
              "    <div>\n",
              "<style scoped>\n",
              "    .dataframe tbody tr th:only-of-type {\n",
              "        vertical-align: middle;\n",
              "    }\n",
              "\n",
              "    .dataframe tbody tr th {\n",
              "        vertical-align: top;\n",
              "    }\n",
              "\n",
              "    .dataframe thead th {\n",
              "        text-align: right;\n",
              "    }\n",
              "</style>\n",
              "<table border=\"1\" class=\"dataframe\">\n",
              "  <thead>\n",
              "    <tr style=\"text-align: right;\">\n",
              "      <th></th>\n",
              "      <th>Index</th>\n",
              "      <th>Age</th>\n",
              "      <th>Salary</th>\n",
              "      <th>Rating</th>\n",
              "      <th>Location</th>\n",
              "      <th>Established</th>\n",
              "      <th>Easy Apply</th>\n",
              "    </tr>\n",
              "  </thead>\n",
              "  <tbody>\n",
              "    <tr>\n",
              "      <th>0</th>\n",
              "      <td>0</td>\n",
              "      <td>44.0</td>\n",
              "      <td>$44k-$99k</td>\n",
              "      <td>5.4</td>\n",
              "      <td>India,In</td>\n",
              "      <td>1999</td>\n",
              "      <td>TRUE</td>\n",
              "    </tr>\n",
              "    <tr>\n",
              "      <th>1</th>\n",
              "      <td>1</td>\n",
              "      <td>66.0</td>\n",
              "      <td>$55k-$66k</td>\n",
              "      <td>3.5</td>\n",
              "      <td>New York,Ny</td>\n",
              "      <td>2002</td>\n",
              "      <td>TRUE</td>\n",
              "    </tr>\n",
              "    <tr>\n",
              "      <th>2</th>\n",
              "      <td>2</td>\n",
              "      <td>NaN</td>\n",
              "      <td>$77k-$89k</td>\n",
              "      <td>-1.0</td>\n",
              "      <td>New York,Ny</td>\n",
              "      <td>-1</td>\n",
              "      <td>-1</td>\n",
              "    </tr>\n",
              "    <tr>\n",
              "      <th>3</th>\n",
              "      <td>3</td>\n",
              "      <td>64.0</td>\n",
              "      <td>$44k-$99k</td>\n",
              "      <td>4.4</td>\n",
              "      <td>India In</td>\n",
              "      <td>1988</td>\n",
              "      <td>-1</td>\n",
              "    </tr>\n",
              "    <tr>\n",
              "      <th>4</th>\n",
              "      <td>4</td>\n",
              "      <td>25.0</td>\n",
              "      <td>$44k-$99k</td>\n",
              "      <td>6.4</td>\n",
              "      <td>Australia Aus</td>\n",
              "      <td>2002</td>\n",
              "      <td>-1</td>\n",
              "    </tr>\n",
              "    <tr>\n",
              "      <th>5</th>\n",
              "      <td>5</td>\n",
              "      <td>44.0</td>\n",
              "      <td>$77k-$89k</td>\n",
              "      <td>1.4</td>\n",
              "      <td>India,In</td>\n",
              "      <td>1999</td>\n",
              "      <td>TRUE</td>\n",
              "    </tr>\n",
              "    <tr>\n",
              "      <th>6</th>\n",
              "      <td>6</td>\n",
              "      <td>21.0</td>\n",
              "      <td>$44k-$99k</td>\n",
              "      <td>0.0</td>\n",
              "      <td>New York,Ny</td>\n",
              "      <td>-1</td>\n",
              "      <td>-1</td>\n",
              "    </tr>\n",
              "    <tr>\n",
              "      <th>7</th>\n",
              "      <td>7</td>\n",
              "      <td>44.0</td>\n",
              "      <td>$44k-$99k</td>\n",
              "      <td>-1.0</td>\n",
              "      <td>Australia Aus</td>\n",
              "      <td>-1</td>\n",
              "      <td>-1</td>\n",
              "    </tr>\n",
              "    <tr>\n",
              "      <th>8</th>\n",
              "      <td>8</td>\n",
              "      <td>35.0</td>\n",
              "      <td>$44k-$99k</td>\n",
              "      <td>5.4</td>\n",
              "      <td>New York,Ny</td>\n",
              "      <td>-1</td>\n",
              "      <td>-1</td>\n",
              "    </tr>\n",
              "    <tr>\n",
              "      <th>9</th>\n",
              "      <td>9</td>\n",
              "      <td>22.0</td>\n",
              "      <td>$44k-$99k</td>\n",
              "      <td>7.7</td>\n",
              "      <td>India,In</td>\n",
              "      <td>-1</td>\n",
              "      <td>TRUE</td>\n",
              "    </tr>\n",
              "    <tr>\n",
              "      <th>10</th>\n",
              "      <td>10</td>\n",
              "      <td>55.0</td>\n",
              "      <td>$10k-$49k</td>\n",
              "      <td>5.4</td>\n",
              "      <td>India,In</td>\n",
              "      <td>2008</td>\n",
              "      <td>TRUE</td>\n",
              "    </tr>\n",
              "    <tr>\n",
              "      <th>11</th>\n",
              "      <td>11</td>\n",
              "      <td>44.0</td>\n",
              "      <td>$10k-$49k</td>\n",
              "      <td>6.7</td>\n",
              "      <td>India,In</td>\n",
              "      <td>2009</td>\n",
              "      <td>-1</td>\n",
              "    </tr>\n",
              "    <tr>\n",
              "      <th>12</th>\n",
              "      <td>12</td>\n",
              "      <td>NaN</td>\n",
              "      <td>$44k-$99k</td>\n",
              "      <td>0.0</td>\n",
              "      <td>India,In</td>\n",
              "      <td>1999</td>\n",
              "      <td>-1</td>\n",
              "    </tr>\n",
              "    <tr>\n",
              "      <th>13</th>\n",
              "      <td>13</td>\n",
              "      <td>25.0</td>\n",
              "      <td>$44k-$99k</td>\n",
              "      <td>-1.0</td>\n",
              "      <td>Australia Aus</td>\n",
              "      <td>2019</td>\n",
              "      <td>TRUE</td>\n",
              "    </tr>\n",
              "    <tr>\n",
              "      <th>14</th>\n",
              "      <td>14</td>\n",
              "      <td>66.0</td>\n",
              "      <td>$44k-$99k</td>\n",
              "      <td>4.0</td>\n",
              "      <td>Australia Aus</td>\n",
              "      <td>2020</td>\n",
              "      <td>TRUE</td>\n",
              "    </tr>\n",
              "    <tr>\n",
              "      <th>15</th>\n",
              "      <td>15</td>\n",
              "      <td>44.0</td>\n",
              "      <td>$88k-$101k</td>\n",
              "      <td>3.0</td>\n",
              "      <td>Australia Aus</td>\n",
              "      <td>1999</td>\n",
              "      <td>-1</td>\n",
              "    </tr>\n",
              "    <tr>\n",
              "      <th>16</th>\n",
              "      <td>16</td>\n",
              "      <td>19.0</td>\n",
              "      <td>$19k-$40k</td>\n",
              "      <td>4.5</td>\n",
              "      <td>India,In</td>\n",
              "      <td>1984</td>\n",
              "      <td>-1</td>\n",
              "    </tr>\n",
              "    <tr>\n",
              "      <th>17</th>\n",
              "      <td>17</td>\n",
              "      <td>NaN</td>\n",
              "      <td>$44k-$99k</td>\n",
              "      <td>5.3</td>\n",
              "      <td>New York,Ny</td>\n",
              "      <td>1943</td>\n",
              "      <td>TRUE</td>\n",
              "    </tr>\n",
              "    <tr>\n",
              "      <th>18</th>\n",
              "      <td>18</td>\n",
              "      <td>35.0</td>\n",
              "      <td>$44k-$99k</td>\n",
              "      <td>6.7</td>\n",
              "      <td>New York,Ny</td>\n",
              "      <td>1954</td>\n",
              "      <td>TRUE</td>\n",
              "    </tr>\n",
              "    <tr>\n",
              "      <th>19</th>\n",
              "      <td>19</td>\n",
              "      <td>32.0</td>\n",
              "      <td>$44k-$99k</td>\n",
              "      <td>3.3</td>\n",
              "      <td>New York,Ny</td>\n",
              "      <td>1955</td>\n",
              "      <td>TRUE</td>\n",
              "    </tr>\n",
              "    <tr>\n",
              "      <th>20</th>\n",
              "      <td>20</td>\n",
              "      <td>NaN</td>\n",
              "      <td>$44k-$99k</td>\n",
              "      <td>5.7</td>\n",
              "      <td>New York,Ny</td>\n",
              "      <td>1944</td>\n",
              "      <td>TRUE</td>\n",
              "    </tr>\n",
              "    <tr>\n",
              "      <th>21</th>\n",
              "      <td>21</td>\n",
              "      <td>35.0</td>\n",
              "      <td>$44k-$99k</td>\n",
              "      <td>5.0</td>\n",
              "      <td>New York,Ny</td>\n",
              "      <td>1946</td>\n",
              "      <td>-1</td>\n",
              "    </tr>\n",
              "    <tr>\n",
              "      <th>22</th>\n",
              "      <td>22</td>\n",
              "      <td>19.0</td>\n",
              "      <td>$55k-$66k</td>\n",
              "      <td>7.8</td>\n",
              "      <td>New York,Ny</td>\n",
              "      <td>1988</td>\n",
              "      <td>TRUE</td>\n",
              "    </tr>\n",
              "    <tr>\n",
              "      <th>23</th>\n",
              "      <td>23</td>\n",
              "      <td>NaN</td>\n",
              "      <td>$44k-$99k</td>\n",
              "      <td>2.4</td>\n",
              "      <td>New York,Ny</td>\n",
              "      <td>1999</td>\n",
              "      <td>TRUE</td>\n",
              "    </tr>\n",
              "    <tr>\n",
              "      <th>24</th>\n",
              "      <td>24</td>\n",
              "      <td>13.0</td>\n",
              "      <td>$44k-$99k</td>\n",
              "      <td>-1.0</td>\n",
              "      <td>New York,Ny</td>\n",
              "      <td>1987</td>\n",
              "      <td>-1</td>\n",
              "    </tr>\n",
              "    <tr>\n",
              "      <th>25</th>\n",
              "      <td>25</td>\n",
              "      <td>55.0</td>\n",
              "      <td>$44k-$99k</td>\n",
              "      <td>0.0</td>\n",
              "      <td>Australia Aus</td>\n",
              "      <td>1980</td>\n",
              "      <td>TRUE</td>\n",
              "    </tr>\n",
              "    <tr>\n",
              "      <th>26</th>\n",
              "      <td>26</td>\n",
              "      <td>NaN</td>\n",
              "      <td>$55k-$66k</td>\n",
              "      <td>NaN</td>\n",
              "      <td>India,In</td>\n",
              "      <td>1934</td>\n",
              "      <td>TRUE</td>\n",
              "    </tr>\n",
              "    <tr>\n",
              "      <th>27</th>\n",
              "      <td>27</td>\n",
              "      <td>52.0</td>\n",
              "      <td>$44k-$99k</td>\n",
              "      <td>5.4</td>\n",
              "      <td>India,In</td>\n",
              "      <td>1935</td>\n",
              "      <td>-1</td>\n",
              "    </tr>\n",
              "    <tr>\n",
              "      <th>28</th>\n",
              "      <td>28</td>\n",
              "      <td>NaN</td>\n",
              "      <td>$39k-$88k</td>\n",
              "      <td>3.4</td>\n",
              "      <td>Australia Aus</td>\n",
              "      <td>1932</td>\n",
              "      <td>-1</td>\n",
              "    </tr>\n",
              "  </tbody>\n",
              "</table>\n",
              "</div>\n",
              "    <div class=\"colab-df-buttons\">\n",
              "\n",
              "  <div class=\"colab-df-container\">\n",
              "    <button class=\"colab-df-convert\" onclick=\"convertToInteractive('df-4d72ccb5-185d-4fbf-8439-0d8e58a8e484')\"\n",
              "            title=\"Convert this dataframe to an interactive table.\"\n",
              "            style=\"display:none;\">\n",
              "\n",
              "  <svg xmlns=\"http://www.w3.org/2000/svg\" height=\"24px\" viewBox=\"0 -960 960 960\">\n",
              "    <path d=\"M120-120v-720h720v720H120Zm60-500h600v-160H180v160Zm220 220h160v-160H400v160Zm0 220h160v-160H400v160ZM180-400h160v-160H180v160Zm440 0h160v-160H620v160ZM180-180h160v-160H180v160Zm440 0h160v-160H620v160Z\"/>\n",
              "  </svg>\n",
              "    </button>\n",
              "\n",
              "  <style>\n",
              "    .colab-df-container {\n",
              "      display:flex;\n",
              "      gap: 12px;\n",
              "    }\n",
              "\n",
              "    .colab-df-convert {\n",
              "      background-color: #E8F0FE;\n",
              "      border: none;\n",
              "      border-radius: 50%;\n",
              "      cursor: pointer;\n",
              "      display: none;\n",
              "      fill: #1967D2;\n",
              "      height: 32px;\n",
              "      padding: 0 0 0 0;\n",
              "      width: 32px;\n",
              "    }\n",
              "\n",
              "    .colab-df-convert:hover {\n",
              "      background-color: #E2EBFA;\n",
              "      box-shadow: 0px 1px 2px rgba(60, 64, 67, 0.3), 0px 1px 3px 1px rgba(60, 64, 67, 0.15);\n",
              "      fill: #174EA6;\n",
              "    }\n",
              "\n",
              "    .colab-df-buttons div {\n",
              "      margin-bottom: 4px;\n",
              "    }\n",
              "\n",
              "    [theme=dark] .colab-df-convert {\n",
              "      background-color: #3B4455;\n",
              "      fill: #D2E3FC;\n",
              "    }\n",
              "\n",
              "    [theme=dark] .colab-df-convert:hover {\n",
              "      background-color: #434B5C;\n",
              "      box-shadow: 0px 1px 3px 1px rgba(0, 0, 0, 0.15);\n",
              "      filter: drop-shadow(0px 1px 2px rgba(0, 0, 0, 0.3));\n",
              "      fill: #FFFFFF;\n",
              "    }\n",
              "  </style>\n",
              "\n",
              "    <script>\n",
              "      const buttonEl =\n",
              "        document.querySelector('#df-4d72ccb5-185d-4fbf-8439-0d8e58a8e484 button.colab-df-convert');\n",
              "      buttonEl.style.display =\n",
              "        google.colab.kernel.accessAllowed ? 'block' : 'none';\n",
              "\n",
              "      async function convertToInteractive(key) {\n",
              "        const element = document.querySelector('#df-4d72ccb5-185d-4fbf-8439-0d8e58a8e484');\n",
              "        const dataTable =\n",
              "          await google.colab.kernel.invokeFunction('convertToInteractive',\n",
              "                                                    [key], {});\n",
              "        if (!dataTable) return;\n",
              "\n",
              "        const docLinkHtml = 'Like what you see? Visit the ' +\n",
              "          '<a target=\"_blank\" href=https://colab.research.google.com/notebooks/data_table.ipynb>data table notebook</a>'\n",
              "          + ' to learn more about interactive tables.';\n",
              "        element.innerHTML = '';\n",
              "        dataTable['output_type'] = 'display_data';\n",
              "        await google.colab.output.renderOutput(dataTable, element);\n",
              "        const docLink = document.createElement('div');\n",
              "        docLink.innerHTML = docLinkHtml;\n",
              "        element.appendChild(docLink);\n",
              "      }\n",
              "    </script>\n",
              "  </div>\n",
              "\n",
              "\n",
              "<div id=\"df-70ea0834-7fcd-463c-b3c9-9c627f506649\">\n",
              "  <button class=\"colab-df-quickchart\" onclick=\"quickchart('df-70ea0834-7fcd-463c-b3c9-9c627f506649')\"\n",
              "            title=\"Suggest charts\"\n",
              "            style=\"display:none;\">\n",
              "\n",
              "<svg xmlns=\"http://www.w3.org/2000/svg\" height=\"24px\"viewBox=\"0 0 24 24\"\n",
              "     width=\"24px\">\n",
              "    <g>\n",
              "        <path d=\"M19 3H5c-1.1 0-2 .9-2 2v14c0 1.1.9 2 2 2h14c1.1 0 2-.9 2-2V5c0-1.1-.9-2-2-2zM9 17H7v-7h2v7zm4 0h-2V7h2v10zm4 0h-2v-4h2v4z\"/>\n",
              "    </g>\n",
              "</svg>\n",
              "  </button>\n",
              "\n",
              "<style>\n",
              "  .colab-df-quickchart {\n",
              "      --bg-color: #E8F0FE;\n",
              "      --fill-color: #1967D2;\n",
              "      --hover-bg-color: #E2EBFA;\n",
              "      --hover-fill-color: #174EA6;\n",
              "      --disabled-fill-color: #AAA;\n",
              "      --disabled-bg-color: #DDD;\n",
              "  }\n",
              "\n",
              "  [theme=dark] .colab-df-quickchart {\n",
              "      --bg-color: #3B4455;\n",
              "      --fill-color: #D2E3FC;\n",
              "      --hover-bg-color: #434B5C;\n",
              "      --hover-fill-color: #FFFFFF;\n",
              "      --disabled-bg-color: #3B4455;\n",
              "      --disabled-fill-color: #666;\n",
              "  }\n",
              "\n",
              "  .colab-df-quickchart {\n",
              "    background-color: var(--bg-color);\n",
              "    border: none;\n",
              "    border-radius: 50%;\n",
              "    cursor: pointer;\n",
              "    display: none;\n",
              "    fill: var(--fill-color);\n",
              "    height: 32px;\n",
              "    padding: 0;\n",
              "    width: 32px;\n",
              "  }\n",
              "\n",
              "  .colab-df-quickchart:hover {\n",
              "    background-color: var(--hover-bg-color);\n",
              "    box-shadow: 0 1px 2px rgba(60, 64, 67, 0.3), 0 1px 3px 1px rgba(60, 64, 67, 0.15);\n",
              "    fill: var(--button-hover-fill-color);\n",
              "  }\n",
              "\n",
              "  .colab-df-quickchart-complete:disabled,\n",
              "  .colab-df-quickchart-complete:disabled:hover {\n",
              "    background-color: var(--disabled-bg-color);\n",
              "    fill: var(--disabled-fill-color);\n",
              "    box-shadow: none;\n",
              "  }\n",
              "\n",
              "  .colab-df-spinner {\n",
              "    border: 2px solid var(--fill-color);\n",
              "    border-color: transparent;\n",
              "    border-bottom-color: var(--fill-color);\n",
              "    animation:\n",
              "      spin 1s steps(1) infinite;\n",
              "  }\n",
              "\n",
              "  @keyframes spin {\n",
              "    0% {\n",
              "      border-color: transparent;\n",
              "      border-bottom-color: var(--fill-color);\n",
              "      border-left-color: var(--fill-color);\n",
              "    }\n",
              "    20% {\n",
              "      border-color: transparent;\n",
              "      border-left-color: var(--fill-color);\n",
              "      border-top-color: var(--fill-color);\n",
              "    }\n",
              "    30% {\n",
              "      border-color: transparent;\n",
              "      border-left-color: var(--fill-color);\n",
              "      border-top-color: var(--fill-color);\n",
              "      border-right-color: var(--fill-color);\n",
              "    }\n",
              "    40% {\n",
              "      border-color: transparent;\n",
              "      border-right-color: var(--fill-color);\n",
              "      border-top-color: var(--fill-color);\n",
              "    }\n",
              "    60% {\n",
              "      border-color: transparent;\n",
              "      border-right-color: var(--fill-color);\n",
              "    }\n",
              "    80% {\n",
              "      border-color: transparent;\n",
              "      border-right-color: var(--fill-color);\n",
              "      border-bottom-color: var(--fill-color);\n",
              "    }\n",
              "    90% {\n",
              "      border-color: transparent;\n",
              "      border-bottom-color: var(--fill-color);\n",
              "    }\n",
              "  }\n",
              "</style>\n",
              "\n",
              "  <script>\n",
              "    async function quickchart(key) {\n",
              "      const quickchartButtonEl =\n",
              "        document.querySelector('#' + key + ' button');\n",
              "      quickchartButtonEl.disabled = true;  // To prevent multiple clicks.\n",
              "      quickchartButtonEl.classList.add('colab-df-spinner');\n",
              "      try {\n",
              "        const charts = await google.colab.kernel.invokeFunction(\n",
              "            'suggestCharts', [key], {});\n",
              "      } catch (error) {\n",
              "        console.error('Error during call to suggestCharts:', error);\n",
              "      }\n",
              "      quickchartButtonEl.classList.remove('colab-df-spinner');\n",
              "      quickchartButtonEl.classList.add('colab-df-quickchart-complete');\n",
              "    }\n",
              "    (() => {\n",
              "      let quickchartButtonEl =\n",
              "        document.querySelector('#df-70ea0834-7fcd-463c-b3c9-9c627f506649 button');\n",
              "      quickchartButtonEl.style.display =\n",
              "        google.colab.kernel.accessAllowed ? 'block' : 'none';\n",
              "    })();\n",
              "  </script>\n",
              "</div>\n",
              "    </div>\n",
              "  </div>\n"
            ]
          },
          "metadata": {},
          "execution_count": 3
        }
      ]
    },
    {
      "cell_type": "markdown",
      "source": [
        "1. Missing Values\n"
      ],
      "metadata": {
        "id": "p5Tjv3dKN9Nm"
      }
    },
    {
      "cell_type": "code",
      "source": [
        "df = pd.DataFrame(data)\n",
        "missing_values = df.isnull().sum()\n",
        "print(\"Missing Values:\\n\", missing_values)\n",
        "print(\"\\nMissing Values After Handling:\\n\", df.isnull().sum())"
      ],
      "metadata": {
        "colab": {
          "base_uri": "https://localhost:8080/"
        },
        "id": "b0B_u9lckC6Z",
        "outputId": "66328d83-6336-4f70-c077-11ce08bda4aa"
      },
      "execution_count": 7,
      "outputs": [
        {
          "output_type": "stream",
          "name": "stdout",
          "text": [
            "Missing Values:\n",
            " Index          0\n",
            "Age            7\n",
            "Salary         0\n",
            "Rating         1\n",
            "Location       0\n",
            "Established    0\n",
            "Easy Apply     0\n",
            "dtype: int64\n",
            "\n",
            "Missing Values After Handling:\n",
            " Index          0\n",
            "Age            7\n",
            "Salary         0\n",
            "Rating         1\n",
            "Location       0\n",
            "Established    0\n",
            "Easy Apply     0\n",
            "dtype: int64\n"
          ]
        }
      ]
    },
    {
      "cell_type": "markdown",
      "source": [
        "2. Data Types"
      ],
      "metadata": {
        "id": "YNMS76pjOujS"
      }
    },
    {
      "cell_type": "code",
      "source": [
        "data_types = df.dtypes\n",
        "print(\"Data Types:\\n\", data_types)\n",
        "print(\"\\nAlignment with Expected Types:\")\n",
        "print(\"Age:\", data_types['Age'] in [float, int])\n",
        "print(\"Salary:\", data_types['Salary'] in [float, int])\n",
        "print(\"Rating:\", data_types['Rating'] in [float])\n",
        "print(\"Location:\", data_types['Location'] in [str])\n",
        "print(\"Established:\", data_types['Established'] in [int])\n",
        "print(\"Easy Apply:\", data_types['Easy Apply'] in [bool])\n"
      ],
      "metadata": {
        "colab": {
          "base_uri": "https://localhost:8080/"
        },
        "id": "gX_8ql6rkC2c",
        "outputId": "d512d8e0-00bf-4d94-de5a-cb5d25aa5070"
      },
      "execution_count": 9,
      "outputs": [
        {
          "output_type": "stream",
          "name": "stdout",
          "text": [
            "Data Types:\n",
            " Index            int64\n",
            "Age            float64\n",
            "Salary          object\n",
            "Rating         float64\n",
            "Location        object\n",
            "Established      int64\n",
            "Easy Apply      object\n",
            "dtype: object\n",
            "\n",
            "Alignment with Expected Types:\n",
            "Age: True\n",
            "Salary: False\n",
            "Rating: True\n",
            "Location: False\n",
            "Established: True\n",
            "Easy Apply: False\n"
          ]
        }
      ]
    },
    {
      "cell_type": "markdown",
      "source": [
        "3. Outliers\n"
      ],
      "metadata": {
        "id": "oB0au-cpPEyk"
      }
    },
    {
      "cell_type": "code",
      "source": [
        "summary_stats = df.describe()\n",
        "print(\"Summary Statistics:\\n\", summary_stats)\n",
        "Q1 = df.quantile(0.25)\n",
        "Q3 = df.quantile(0.75)\n",
        "IQR = Q3 - Q1\n",
        "\n",
        "def identify_outliers(column):\n",
        "    lower_bound = Q1[column] - 1.5 * IQR[column]\n",
        "    upper_bound = Q3[column] + 1.5 * IQR[column]\n",
        "    outliers = df[(df[column] < lower_bound) | (df[column] > upper_bound)]\n",
        "    return outliers\n",
        "\n",
        "age_outliers = identify_outliers('Age')\n",
        "rating_outliers = identify_outliers('Rating')\n",
        "established_outliers = identify_outliers('Established')\n",
        "\n",
        "print(\"\\nPotential Outliers in Age:\\n\", age_outliers)\n",
        "print(\"\\nPotential Outliers in Rating:\\n\", rating_outliers)\n",
        "print(\"\\nPotential Outliers in Established:\\n\", established_outliers)\n"
      ],
      "metadata": {
        "colab": {
          "base_uri": "https://localhost:8080/"
        },
        "id": "WNtifERVkCzj",
        "outputId": "52bd5731-ab75-4b44-c2f6-2c9ecb03d496"
      },
      "execution_count": 11,
      "outputs": [
        {
          "output_type": "stream",
          "name": "stdout",
          "text": [
            "Summary Statistics:\n",
            "            Index        Age     Rating  Established\n",
            "count  29.000000  22.000000  28.000000    29.000000\n",
            "mean   14.000000  39.045455   3.528571  1638.620690\n",
            "std     8.514693  16.134781   2.825133   762.079599\n",
            "min     0.000000  13.000000  -1.000000    -1.000000\n",
            "25%     7.000000  25.000000   1.050000  1935.000000\n",
            "50%    14.000000  39.500000   4.200000  1984.000000\n",
            "75%    21.000000  50.000000   5.400000  1999.000000\n",
            "max    28.000000  66.000000   7.800000  2020.000000\n",
            "\n",
            "Potential Outliers in Age:\n",
            " Empty DataFrame\n",
            "Columns: [Index, Age, Salary, Rating, Location, Established, Easy Apply]\n",
            "Index: []\n",
            "\n",
            "Potential Outliers in Rating:\n",
            " Empty DataFrame\n",
            "Columns: [Index, Age, Salary, Rating, Location, Established, Easy Apply]\n",
            "Index: []\n",
            "\n",
            "Potential Outliers in Established:\n",
            "    Index   Age     Salary  Rating       Location  Established Easy Apply\n",
            "2      2   NaN  $77k-$89k    -1.0    New York,Ny           -1         -1\n",
            "6      6  21.0  $44k-$99k     0.0    New York,Ny           -1         -1\n",
            "7      7  44.0  $44k-$99k    -1.0  Australia Aus           -1         -1\n",
            "8      8  35.0  $44k-$99k     5.4    New York,Ny           -1         -1\n",
            "9      9  22.0  $44k-$99k     7.7       India,In           -1       TRUE\n"
          ]
        },
        {
          "output_type": "stream",
          "name": "stderr",
          "text": [
            "<ipython-input-11-6d828f904ad1>:10: FutureWarning: The default value of numeric_only in DataFrame.quantile is deprecated. In a future version, it will default to False. Select only valid columns or specify the value of numeric_only to silence this warning.\n",
            "  Q1 = df.quantile(0.25)\n",
            "<ipython-input-11-6d828f904ad1>:11: FutureWarning: The default value of numeric_only in DataFrame.quantile is deprecated. In a future version, it will default to False. Select only valid columns or specify the value of numeric_only to silence this warning.\n",
            "  Q3 = df.quantile(0.75)\n"
          ]
        }
      ]
    },
    {
      "cell_type": "markdown",
      "source": [
        "4. Salary Formatting:\n"
      ],
      "metadata": {
        "id": "rziMgNC-P2cU"
      }
    },
    {
      "cell_type": "code",
      "source": [
        "print(\"Salary Column Information:\\n\", df['Salary'].unique())\n",
        "print(\"\\nData Type of 'Salary' Column:\", df['Salary'].dtype)\n",
        "if df['Salary'].dtype == object:\n",
        "    salary_range = df['Salary'].str.extract('(\\d+)-(\\d+)')\n",
        "    salary_range.columns = ['Salary_Min', 'Salary_Max']\n",
        "    df['Salary'] = salary_range.astype(float).mean(axis=1)\n",
        "print(\"\\nSummary Statistics After Formatting 'Salary' Column:\\n\", df['Salary'].describe())\n"
      ],
      "metadata": {
        "colab": {
          "base_uri": "https://localhost:8080/"
        },
        "id": "Z2-eA0r-kCwt",
        "outputId": "617df820-eaeb-4b24-d207-78bfc9048d44"
      },
      "execution_count": 16,
      "outputs": [
        {
          "output_type": "stream",
          "name": "stdout",
          "text": [
            "Salary Column Information:\n",
            " [nan]\n",
            "\n",
            "Data Type of 'Salary' Column: float64\n",
            "\n",
            "Summary Statistics After Formatting 'Salary' Column:\n",
            " count    0.0\n",
            "mean     NaN\n",
            "std      NaN\n",
            "min      NaN\n",
            "25%      NaN\n",
            "50%      NaN\n",
            "75%      NaN\n",
            "max      NaN\n",
            "Name: Salary, dtype: float64\n"
          ]
        }
      ]
    },
    {
      "cell_type": "markdown",
      "source": [
        "5.Location Standardization"
      ],
      "metadata": {
        "id": "R4X4YZQQRJ03"
      }
    },
    {
      "cell_type": "code",
      "source": [
        "unique_locations = df['Location'].unique()\n",
        "print(\"Unique Locations:\\n\", unique_locations)\n",
        "\n",
        "# Standardize locations by converting to lowercase and removing extra spaces\n",
        "df['Location'] = df['Location'].str.lower().str.strip()\n",
        "# After standardization, explore unique values again\n",
        "unique_standardized_locations = df['Location'].unique()\n",
        "# Display unique standardized values\n",
        "print(\"\\nUnique Standardized Locations:\\n\", unique_standardized_locations)\n"
      ],
      "metadata": {
        "colab": {
          "base_uri": "https://localhost:8080/"
        },
        "id": "L9tnVMQIkCtl",
        "outputId": "b9d35658-2b8c-4992-8f0f-893eb1e677eb"
      },
      "execution_count": 17,
      "outputs": [
        {
          "output_type": "stream",
          "name": "stdout",
          "text": [
            "Unique Locations:\n",
            " ['India,In' 'New York,Ny' 'India In' 'Australia Aus']\n",
            "\n",
            "Unique Standardized Locations:\n",
            " ['india,in' 'new york,ny' 'india in' 'australia aus']\n"
          ]
        }
      ]
    },
    {
      "cell_type": "markdown",
      "source": [
        "6. Established Column"
      ],
      "metadata": {
        "id": "c1IYRiDERuJo"
      }
    },
    {
      "cell_type": "code",
      "source": [
        "unique_established_values = df['Established'].unique()\n",
        "print(\"Unique Established Values:\\n\", unique_established_values)\n",
        "anomalies = df[df['Established'].apply(lambda x: not str(x).isdigit())]\n",
        "print(\"\\nRows with Anomalies in 'Established' Column:\\n\", anomalies)\n",
        "unique_established_values_after_handling = df['Established'].unique()\n",
        "print(\"\\nUnique Established Values After Handling Anomalies:\\n\", unique_established_values_after_handling)\n"
      ],
      "metadata": {
        "colab": {
          "base_uri": "https://localhost:8080/"
        },
        "id": "GoCOWWFMkCq8",
        "outputId": "804123f7-3efd-4740-8972-21a824bad6fd"
      },
      "execution_count": 19,
      "outputs": [
        {
          "output_type": "stream",
          "name": "stdout",
          "text": [
            "Unique Established Values:\n",
            " [1999 2002   -1 1988 2008 2009 2019 2020 1984 1943 1954 1955 1944 1946\n",
            " 1987 1980 1934 1935 1932]\n",
            "\n",
            "Rows with Anomalies in 'Established' Column:\n",
            "    Index   Age  Salary  Rating       Location  Established Easy Apply\n",
            "2      2   NaN     NaN    -1.0    new york,ny           -1         -1\n",
            "6      6  21.0     NaN     0.0    new york,ny           -1         -1\n",
            "7      7  44.0     NaN    -1.0  australia aus           -1         -1\n",
            "8      8  35.0     NaN     5.4    new york,ny           -1         -1\n",
            "9      9  22.0     NaN     7.7       india,in           -1       TRUE\n",
            "\n",
            "Unique Established Values After Handling Anomalies:\n",
            " [1999 2002   -1 1988 2008 2009 2019 2020 1984 1943 1954 1955 1944 1946\n",
            " 1987 1980 1934 1935 1932]\n"
          ]
        }
      ]
    },
    {
      "cell_type": "markdown",
      "source": [
        "7. Easy Apply Indicator"
      ],
      "metadata": {
        "id": "uGbh66ndSdNu"
      }
    },
    {
      "cell_type": "code",
      "source": [
        "unique_easy_apply_values = df['Easy Apply'].unique()\n",
        "print(\"Unique Easy Apply Values:\\n\", unique_easy_apply_values)\n",
        "print(\"\\nData Type of 'Easy Apply' Column:\", df['Easy Apply'].dtype)\n",
        "df['Easy Apply'] = df['Easy Apply'].map({'TRUE': True, 'FALSE': False, True: True, False: False})\n",
        "print(\"\\nData Type of 'Easy Apply' Column After Transformation:\", df['Easy Apply'].dtype)\n",
        "print(\"\\nUnique Easy Apply Values After Transformation:\\n\", df['Easy Apply'].unique())\n"
      ],
      "metadata": {
        "id": "J99HGe43kCoG",
        "outputId": "282a08ea-73dd-469d-adfb-85a94c9a0a31",
        "colab": {
          "base_uri": "https://localhost:8080/"
        }
      },
      "execution_count": 22,
      "outputs": [
        {
          "output_type": "stream",
          "name": "stdout",
          "text": [
            "Unique Easy Apply Values:\n",
            " [True nan]\n",
            "\n",
            "Data Type of 'Easy Apply' Column: object\n",
            "\n",
            "Data Type of 'Easy Apply' Column After Transformation: object\n",
            "\n",
            "Unique Easy Apply Values After Transformation:\n",
            " [True nan]\n"
          ]
        }
      ]
    },
    {
      "cell_type": "markdown",
      "source": [
        "8. Rating Range"
      ],
      "metadata": {
        "id": "cFpeZI5aTJDp"
      }
    },
    {
      "cell_type": "code",
      "source": [
        "rating_stats = df['Rating'].describe()\n",
        "print(\"Rating Column Statistics:\\n\", rating_stats)\n",
        "import matplotlib.pyplot as plt\n",
        "\n",
        "plt.hist(df['Rating'].dropna(), bins=10, edgecolor='black')\n",
        "plt.xlabel('Rating')\n",
        "plt.ylabel('Frequency')\n",
        "plt.title('Distribution of Ratings')\n",
        "plt.show()\n",
        "Q1 = df['Rating'].quantile(0.25)\n",
        "Q3 = df['Rating'].quantile(0.75)\n",
        "IQR = Q3 - Q1\n",
        "def identify_rating_outliers():\n",
        "    lower_bound = Q1 - 1.5 * IQR\n",
        "    upper_bound = Q3 + 1.5 * IQR\n",
        "    outliers = df[(df['Rating'] < lower_bound) | (df['Rating'] > upper_bound)]\n",
        "    return outliers\n",
        "rating_outliers = identify_rating_outliers()\n",
        "print(\"\\nPotential Outliers in Rating:\\n\", rating_outliers)"
      ],
      "metadata": {
        "colab": {
          "base_uri": "https://localhost:8080/",
          "height": 740
        },
        "id": "T9ha3yI1rZcV",
        "outputId": "37f681f5-fe4f-49d2-d59f-b6b3ff22c78c"
      },
      "execution_count": 23,
      "outputs": [
        {
          "output_type": "stream",
          "name": "stdout",
          "text": [
            "Rating Column Statistics:\n",
            " count    28.000000\n",
            "mean      3.528571\n",
            "std       2.825133\n",
            "min      -1.000000\n",
            "25%       1.050000\n",
            "50%       4.200000\n",
            "75%       5.400000\n",
            "max       7.800000\n",
            "Name: Rating, dtype: float64\n"
          ]
        },
        {
          "output_type": "display_data",
          "data": {
            "text/plain": [
              "<Figure size 640x480 with 1 Axes>"
            ],
            "image/png": "[encoded data removed]"
          },
          "metadata": {}
        },
        {
          "output_type": "stream",
          "name": "stdout",
          "text": [
            "\n",
            "Potential Outliers in Rating:\n",
            " Empty DataFrame\n",
            "Columns: [Index, Age, Salary, Rating, Location, Established, Easy Apply]\n",
            "Index: []\n"
          ]
        }
      ]
    },
    {
      "cell_type": "markdown",
      "source": [
        "40-100\n",
        "\n",
        "40000-100000"
      ],
      "metadata": {
        "id": "4jPs79EUryC-"
      }
    },
    {
      "cell_type": "markdown",
      "source": [
        "9. Age Distribution:"
      ],
      "metadata": {
        "id": "TNveX2T7TpCD"
      }
    },
    {
      "cell_type": "code",
      "source": [
        "import matplotlib.pyplot as plt\n",
        "\n",
        "plt.hist(df['Age'].dropna(), bins=10, edgecolor='black')\n",
        "plt.xlabel('Age')\n",
        "plt.ylabel('Frequency')\n",
        "plt.title('Distribution of Ages')\n",
        "plt.show()\n",
        "age_stats = df['Age'].describe()\n",
        "print(\"Age Column Statistics:\\n\", age_stats)\n",
        "unusual_entries = df[(df['Age'] < 0) | (df['Age'] > 100)]\n",
        "\n",
        "# Print potential unusual entries\n",
        "print(\"\\nPotential Unusual Entries in Age:\\n\", unusual_entries)"
      ],
      "metadata": {
        "colab": {
          "base_uri": "https://localhost:8080/",
          "height": 740
        },
        "id": "USWsISytkCiM",
        "outputId": "04a574b8-6a64-4b62-c582-2014a630d66d"
      },
      "execution_count": 24,
      "outputs": [
        {
          "output_type": "display_data",
          "data": {
            "text/plain": [
              "<Figure size 640x480 with 1 Axes>"
            ],
            "image/png": "[encoded data removed]"
          },
          "metadata": {}
        },
        {
          "output_type": "stream",
          "name": "stdout",
          "text": [
            "Age Column Statistics:\n",
            " count    22.000000\n",
            "mean     39.045455\n",
            "std      16.134781\n",
            "min      13.000000\n",
            "25%      25.000000\n",
            "50%      39.500000\n",
            "75%      50.000000\n",
            "max      66.000000\n",
            "Name: Age, dtype: float64\n",
            "\n",
            "Potential Unusual Entries in Age:\n",
            " Empty DataFrame\n",
            "Columns: [Index, Age, Salary, Rating, Location, Established, Easy Apply]\n",
            "Index: []\n"
          ]
        }
      ]
    },
    {
      "cell_type": "markdown",
      "source": [
        "10. Handling Special Characters"
      ],
      "metadata": {
        "id": "r-NqzqqUUNvB"
      }
    },
    {
      "cell_type": "code",
      "source": [
        "text_columns = ['Location']\n",
        "for column in text_columns:\n",
        "    unique_values = df[column].unique()\n",
        "    print(f\"Unique Values in '{column}':\\n\", unique_values)\n",
        "\n",
        "    # Explore and clean special characters\n",
        "    df[column] = df[column].apply(lambda x: ''.join(e for e in str(x) if e.isalnum() or e.isspace()))\n",
        "\n",
        "# Display unique values again after cleaning\n",
        "for column in text_columns:\n",
        "    unique_values_after_cleaning = df[column].unique()\n",
        "    print(f\"\\nUnique Values in '{column}' After Cleaning:\\n\", unique_values_after_cleaning)\n"
      ],
      "metadata": {
        "id": "I2ET1WftUGEq",
        "outputId": "ad7eb367-1477-4d7a-858d-7dc090909d09",
        "colab": {
          "base_uri": "https://localhost:8080/"
        }
      },
      "execution_count": 25,
      "outputs": [
        {
          "output_type": "stream",
          "name": "stdout",
          "text": [
            "Unique Values in 'Location':\n",
            " ['india,in' 'new york,ny' 'india in' 'australia aus']\n",
            "\n",
            "Unique Values in 'Location' After Cleaning:\n",
            " ['indiain' 'new yorkny' 'india in' 'australia aus']\n"
          ]
        }
      ]
    },
    {
      "cell_type": "markdown",
      "source": [
        "11. Data Integrity\n"
      ],
      "metadata": {
        "id": "Es-xINnIUq-a"
      }
    },
    {
      "cell_type": "code",
      "source": [
        "established_age_mismatch = df[(df['Established'] != -1) & (df['Age'] != -1) & ((2023 - df['Established']) != df['Age'])]\n",
        "\n",
        "# Print rows where 'Established' and 'Age' do not align\n",
        "print(\"Established and Age Mismatch:\\n\", established_age_mismatch)\n",
        "\n",
        "# If you want to visualize the relationship, you can create a scatter plot\n",
        "import matplotlib.pyplot as plt\n",
        "\n",
        "plt.scatter(df['Established'], df['Age'])\n",
        "plt.xlabel('Established')\n",
        "plt.ylabel('Age')\n",
        "plt.title('Established vs. Age')\n",
        "plt.show()\n"
      ],
      "metadata": {
        "id": "wvg64mWDUJtg",
        "outputId": "0a43ae89-cd70-4343-ffd6-251e100e7cf1",
        "colab": {
          "base_uri": "https://localhost:8080/",
          "height": 937
        }
      },
      "execution_count": 26,
      "outputs": [
        {
          "output_type": "stream",
          "name": "stdout",
          "text": [
            "Established and Age Mismatch:\n",
            "     Index   Age  Salary  Rating       Location  Established Easy Apply\n",
            "0       0  44.0     NaN     5.4        indiain         1999       True\n",
            "1       1  66.0     NaN     3.5     new yorkny         2002       True\n",
            "3       3  64.0     NaN     4.4       india in         1988        NaN\n",
            "4       4  25.0     NaN     6.4  australia aus         2002        NaN\n",
            "5       5  44.0     NaN     1.4        indiain         1999       True\n",
            "10     10  55.0     NaN     5.4        indiain         2008       True\n",
            "11     11  44.0     NaN     6.7        indiain         2009        NaN\n",
            "12     12   NaN     NaN     0.0        indiain         1999        NaN\n",
            "13     13  25.0     NaN    -1.0  australia aus         2019       True\n",
            "14     14  66.0     NaN     4.0  australia aus         2020       True\n",
            "15     15  44.0     NaN     3.0  australia aus         1999        NaN\n",
            "16     16  19.0     NaN     4.5        indiain         1984        NaN\n",
            "17     17   NaN     NaN     5.3     new yorkny         1943       True\n",
            "18     18  35.0     NaN     6.7     new yorkny         1954       True\n",
            "19     19  32.0     NaN     3.3     new yorkny         1955       True\n",
            "20     20   NaN     NaN     5.7     new yorkny         1944       True\n",
            "21     21  35.0     NaN     5.0     new yorkny         1946        NaN\n",
            "22     22  19.0     NaN     7.8     new yorkny         1988       True\n",
            "23     23   NaN     NaN     2.4     new yorkny         1999       True\n",
            "24     24  13.0     NaN    -1.0     new yorkny         1987        NaN\n",
            "25     25  55.0     NaN     0.0  australia aus         1980       True\n",
            "26     26   NaN     NaN     NaN        indiain         1934       True\n",
            "27     27  52.0     NaN     5.4        indiain         1935        NaN\n",
            "28     28   NaN     NaN     3.4  australia aus         1932        NaN\n"
          ]
        },
        {
          "output_type": "display_data",
          "data": {
            "text/plain": [
              "<Figure size 640x480 with 1 Axes>"
            ],
            "image/png": "[encoded data removed]"
          },
          "metadata": {}
        }
      ]
    },
    {
      "cell_type": "markdown",
      "source": [
        "12. Easy Apply Transformation"
      ],
      "metadata": {
        "id": "td5fdnF3VCcm"
      }
    },
    {
      "cell_type": "code",
      "source": [
        "unique_easy_apply_values = df['Easy Apply'].unique()\n",
        "print(\"Unique Easy Apply Values:\\n\", unique_easy_apply_values)\n",
        "print(\"\\nData Type of 'Easy Apply' Column:\", df['Easy Apply'].dtype)\n",
        "\n",
        "# Map non-boolean values to boolean\n",
        "df['Easy Apply'] = df['Easy Apply'].map({'TRUE': True, 'FALSE': False, True: True, False: False})\n",
        "\n",
        "# After transformation, check the data type and unique values again\n",
        "print(\"\\nData Type of 'Easy Apply' Column After Transformation:\", df['Easy Apply'].dtype)\n",
        "print(\"\\nUnique Easy Apply Values After Transformation:\\n\", df['Easy Apply'].unique())\n"
      ],
      "metadata": {
        "id": "IN-QtDKNUJ83",
        "outputId": "023e6e3e-7303-4ebf-83f0-e90aa7b8cfcd",
        "colab": {
          "base_uri": "https://localhost:8080/"
        }
      },
      "execution_count": 28,
      "outputs": [
        {
          "output_type": "stream",
          "name": "stdout",
          "text": [
            "Unique Easy Apply Values:\n",
            " [True nan]\n",
            "\n",
            "Data Type of 'Easy Apply' Column: object\n",
            "\n",
            "Data Type of 'Easy Apply' Column After Transformation: object\n",
            "\n",
            "Unique Easy Apply Values After Transformation:\n",
            " [True nan]\n"
          ]
        }
      ]
    },
    {
      "cell_type": "markdown",
      "source": [
        "13. Location Accuracy"
      ],
      "metadata": {
        "id": "OmvS04D_VjLJ"
      }
    },
    {
      "cell_type": "code",
      "source": [
        "unique_locations = df['Location'].unique()\n",
        "print(\"Unique Locations:\\n\", unique_locations)\n",
        "df['Location'] = df['Location'].replace({'New York,Ny': 'New York, NY'})\n",
        "unique_locations_after_correction = df['Location'].unique()\n",
        "print(\"\\nUnique Locations After Correction:\\n\", unique_locations_after_correction)\n"
      ],
      "metadata": {
        "id": "qk2Ip6okUKzn",
        "outputId": "4a2e7c3d-5c8e-4c34-8fa7-2dfdae61c64b",
        "colab": {
          "base_uri": "https://localhost:8080/"
        }
      },
      "execution_count": 30,
      "outputs": [
        {
          "output_type": "stream",
          "name": "stdout",
          "text": [
            "Unique Locations:\n",
            " ['indiain' 'new yorkny' 'india in' 'australia aus']\n",
            "\n",
            "Unique Locations After Correction:\n",
            " ['indiain' 'new yorkny' 'india in' 'australia aus']\n"
          ]
        }
      ]
    },
    {
      "cell_type": "markdown",
      "source": [
        "14. Handling Categorical Data"
      ],
      "metadata": {
        "id": "ABCrXZg_WHQh"
      }
    },
    {
      "cell_type": "code",
      "source": [
        "columns_to_encode = ['YourNominalColumn1', 'YourNominalColumn2', '...']\n",
        "df_encoded = pd.get_dummies(df, columns=columns_to_encode)\n",
        "print(df_encoded.head())\n",
        "\n"
      ],
      "metadata": {
        "id": "7yfxvLH4VpqP",
        "outputId": "4564c14f-4ccd-46bf-81b3-9ed9419b6c82",
        "colab": {
          "base_uri": "https://localhost:8080/",
          "height": 400
        }
      },
      "execution_count": 36,
      "outputs": [
        {
          "output_type": "error",
          "ename": "KeyError",
          "evalue": "ignored",
          "traceback": [
            "\u001b[0;31m---------------------------------------------------------------------------\u001b[0m",
            "\u001b[0;31mKeyError\u001b[0m                                  Traceback (most recent call last)",
            "\u001b[0;32m<ipython-input-36-7f8b55cb0b9c>\u001b[0m in \u001b[0;36m<cell line: 7>\u001b[0;34m()\u001b[0m\n\u001b[1;32m      5\u001b[0m \u001b[0;34m\u001b[0m\u001b[0m\n\u001b[1;32m      6\u001b[0m \u001b[0;31m# Use pandas get_dummies for one-hot encoding\u001b[0m\u001b[0;34m\u001b[0m\u001b[0;34m\u001b[0m\u001b[0m\n\u001b[0;32m----> 7\u001b[0;31m \u001b[0mdf_encoded\u001b[0m \u001b[0;34m=\u001b[0m \u001b[0mpd\u001b[0m\u001b[0;34m.\u001b[0m\u001b[0mget_dummies\u001b[0m\u001b[0;34m(\u001b[0m\u001b[0mdf\u001b[0m\u001b[0;34m,\u001b[0m \u001b[0mcolumns\u001b[0m\u001b[0;34m=\u001b[0m\u001b[0mcolumns_to_encode\u001b[0m\u001b[0;34m)\u001b[0m\u001b[0;34m\u001b[0m\u001b[0;34m\u001b[0m\u001b[0m\n\u001b[0m\u001b[1;32m      8\u001b[0m \u001b[0;34m\u001b[0m\u001b[0m\n\u001b[1;32m      9\u001b[0m \u001b[0;31m# Display the updated DataFrame with one-hot encoding\u001b[0m\u001b[0;34m\u001b[0m\u001b[0;34m\u001b[0m\u001b[0m\n",
            "\u001b[0;32m/usr/local/lib/python3.10/dist-packages/pandas/core/reshape/encoding.py\u001b[0m in \u001b[0;36mget_dummies\u001b[0;34m(data, prefix, prefix_sep, dummy_na, columns, sparse, drop_first, dtype)\u001b[0m\n\u001b[1;32m    144\u001b[0m             \u001b[0;32mraise\u001b[0m \u001b[0mTypeError\u001b[0m\u001b[0;34m(\u001b[0m\u001b[0;34m\"Input must be a list-like for parameter `columns`\"\u001b[0m\u001b[0;34m)\u001b[0m\u001b[0;34m\u001b[0m\u001b[0;34m\u001b[0m\u001b[0m\n\u001b[1;32m    145\u001b[0m         \u001b[0;32melse\u001b[0m\u001b[0;34m:\u001b[0m\u001b[0;34m\u001b[0m\u001b[0;34m\u001b[0m\u001b[0m\n\u001b[0;32m--> 146\u001b[0;31m             \u001b[0mdata_to_encode\u001b[0m \u001b[0;34m=\u001b[0m \u001b[0mdata\u001b[0m\u001b[0;34m[\u001b[0m\u001b[0mcolumns\u001b[0m\u001b[0;34m]\u001b[0m\u001b[0;34m\u001b[0m\u001b[0;34m\u001b[0m\u001b[0m\n\u001b[0m\u001b[1;32m    147\u001b[0m \u001b[0;34m\u001b[0m\u001b[0m\n\u001b[1;32m    148\u001b[0m         \u001b[0;31m# validate prefixes and separator to avoid silently dropping cols\u001b[0m\u001b[0;34m\u001b[0m\u001b[0;34m\u001b[0m\u001b[0m\n",
            "\u001b[0;32m/usr/local/lib/python3.10/dist-packages/pandas/core/frame.py\u001b[0m in \u001b[0;36m__getitem__\u001b[0;34m(self, key)\u001b[0m\n\u001b[1;32m   3811\u001b[0m             \u001b[0;32mif\u001b[0m \u001b[0mis_iterator\u001b[0m\u001b[0;34m(\u001b[0m\u001b[0mkey\u001b[0m\u001b[0;34m)\u001b[0m\u001b[0;34m:\u001b[0m\u001b[0;34m\u001b[0m\u001b[0;34m\u001b[0m\u001b[0m\n\u001b[1;32m   3812\u001b[0m                 \u001b[0mkey\u001b[0m \u001b[0;34m=\u001b[0m \u001b[0mlist\u001b[0m\u001b[0;34m(\u001b[0m\u001b[0mkey\u001b[0m\u001b[0;34m)\u001b[0m\u001b[0;34m\u001b[0m\u001b[0;34m\u001b[0m\u001b[0m\n\u001b[0;32m-> 3813\u001b[0;31m             \u001b[0mindexer\u001b[0m \u001b[0;34m=\u001b[0m \u001b[0mself\u001b[0m\u001b[0;34m.\u001b[0m\u001b[0mcolumns\u001b[0m\u001b[0;34m.\u001b[0m\u001b[0m_get_indexer_strict\u001b[0m\u001b[0;34m(\u001b[0m\u001b[0mkey\u001b[0m\u001b[0;34m,\u001b[0m \u001b[0;34m\"columns\"\u001b[0m\u001b[0;34m)\u001b[0m\u001b[0;34m[\u001b[0m\u001b[0;36m1\u001b[0m\u001b[0;34m]\u001b[0m\u001b[0;34m\u001b[0m\u001b[0;34m\u001b[0m\u001b[0m\n\u001b[0m\u001b[1;32m   3814\u001b[0m \u001b[0;34m\u001b[0m\u001b[0m\n\u001b[1;32m   3815\u001b[0m         \u001b[0;31m# take() does not accept boolean indexers\u001b[0m\u001b[0;34m\u001b[0m\u001b[0;34m\u001b[0m\u001b[0m\n",
            "\u001b[0;32m/usr/local/lib/python3.10/dist-packages/pandas/core/indexes/base.py\u001b[0m in \u001b[0;36m_get_indexer_strict\u001b[0;34m(self, key, axis_name)\u001b[0m\n\u001b[1;32m   6068\u001b[0m             \u001b[0mkeyarr\u001b[0m\u001b[0;34m,\u001b[0m \u001b[0mindexer\u001b[0m\u001b[0;34m,\u001b[0m \u001b[0mnew_indexer\u001b[0m \u001b[0;34m=\u001b[0m \u001b[0mself\u001b[0m\u001b[0;34m.\u001b[0m\u001b[0m_reindex_non_unique\u001b[0m\u001b[0;34m(\u001b[0m\u001b[0mkeyarr\u001b[0m\u001b[0;34m)\u001b[0m\u001b[0;34m\u001b[0m\u001b[0;34m\u001b[0m\u001b[0m\n\u001b[1;32m   6069\u001b[0m \u001b[0;34m\u001b[0m\u001b[0m\n\u001b[0;32m-> 6070\u001b[0;31m         \u001b[0mself\u001b[0m\u001b[0;34m.\u001b[0m\u001b[0m_raise_if_missing\u001b[0m\u001b[0;34m(\u001b[0m\u001b[0mkeyarr\u001b[0m\u001b[0;34m,\u001b[0m \u001b[0mindexer\u001b[0m\u001b[0;34m,\u001b[0m \u001b[0maxis_name\u001b[0m\u001b[0;34m)\u001b[0m\u001b[0;34m\u001b[0m\u001b[0;34m\u001b[0m\u001b[0m\n\u001b[0m\u001b[1;32m   6071\u001b[0m \u001b[0;34m\u001b[0m\u001b[0m\n\u001b[1;32m   6072\u001b[0m         \u001b[0mkeyarr\u001b[0m \u001b[0;34m=\u001b[0m \u001b[0mself\u001b[0m\u001b[0;34m.\u001b[0m\u001b[0mtake\u001b[0m\u001b[0;34m(\u001b[0m\u001b[0mindexer\u001b[0m\u001b[0;34m)\u001b[0m\u001b[0;34m\u001b[0m\u001b[0;34m\u001b[0m\u001b[0m\n",
            "\u001b[0;32m/usr/local/lib/python3.10/dist-packages/pandas/core/indexes/base.py\u001b[0m in \u001b[0;36m_raise_if_missing\u001b[0;34m(self, key, indexer, axis_name)\u001b[0m\n\u001b[1;32m   6128\u001b[0m                 \u001b[0;32mif\u001b[0m \u001b[0muse_interval_msg\u001b[0m\u001b[0;34m:\u001b[0m\u001b[0;34m\u001b[0m\u001b[0;34m\u001b[0m\u001b[0m\n\u001b[1;32m   6129\u001b[0m                     \u001b[0mkey\u001b[0m \u001b[0;34m=\u001b[0m \u001b[0mlist\u001b[0m\u001b[0;34m(\u001b[0m\u001b[0mkey\u001b[0m\u001b[0;34m)\u001b[0m\u001b[0;34m\u001b[0m\u001b[0;34m\u001b[0m\u001b[0m\n\u001b[0;32m-> 6130\u001b[0;31m                 \u001b[0;32mraise\u001b[0m \u001b[0mKeyError\u001b[0m\u001b[0;34m(\u001b[0m\u001b[0;34mf\"None of [{key}] are in the [{axis_name}]\"\u001b[0m\u001b[0;34m)\u001b[0m\u001b[0;34m\u001b[0m\u001b[0;34m\u001b[0m\u001b[0m\n\u001b[0m\u001b[1;32m   6131\u001b[0m \u001b[0;34m\u001b[0m\u001b[0m\n\u001b[1;32m   6132\u001b[0m             \u001b[0mnot_found\u001b[0m \u001b[0;34m=\u001b[0m \u001b[0mlist\u001b[0m\u001b[0;34m(\u001b[0m\u001b[0mensure_index\u001b[0m\u001b[0;34m(\u001b[0m\u001b[0mkey\u001b[0m\u001b[0;34m)\u001b[0m\u001b[0;34m[\u001b[0m\u001b[0mmissing_mask\u001b[0m\u001b[0;34m.\u001b[0m\u001b[0mnonzero\u001b[0m\u001b[0;34m(\u001b[0m\u001b[0;34m)\u001b[0m\u001b[0;34m[\u001b[0m\u001b[0;36m0\u001b[0m\u001b[0;34m]\u001b[0m\u001b[0;34m]\u001b[0m\u001b[0;34m.\u001b[0m\u001b[0munique\u001b[0m\u001b[0;34m(\u001b[0m\u001b[0;34m)\u001b[0m\u001b[0;34m)\u001b[0m\u001b[0;34m\u001b[0m\u001b[0;34m\u001b[0m\u001b[0m\n",
            "\u001b[0;31mKeyError\u001b[0m: \"None of [Index(['YourNominalColumn1', 'YourNominalColumn2', '...'], dtype='object')] are in the [columns]\""
          ]
        }
      ]
    },
    {
      "cell_type": "code",
      "source": [
        "from sklearn.preprocessing import LabelEncoder\n",
        "label_encoder = LabelEncoder()\n",
        "# Apply label encoding to each ordinal column\n",
        "df['YourOrdinalColumn'] = label_encoder.fit_transform(df['YourOrdinalColumn'])\n",
        "# Display the updated DataFrame with label encoding\n",
        "print(df.head())\n"
      ],
      "metadata": {
        "id": "sdILgxz5VqCM",
        "outputId": "bb3ac9bf-0fd2-4f1d-e705-0aea5e4ec999",
        "colab": {
          "base_uri": "https://localhost:8080/",
          "height": 525
        }
      },
      "execution_count": 37,
      "outputs": [
        {
          "output_type": "error",
          "ename": "KeyError",
          "evalue": "ignored",
          "traceback": [
            "\u001b[0;31m---------------------------------------------------------------------------\u001b[0m",
            "\u001b[0;31mKeyError\u001b[0m                                  Traceback (most recent call last)",
            "\u001b[0;32m/usr/local/lib/python3.10/dist-packages/pandas/core/indexes/base.py\u001b[0m in \u001b[0;36mget_loc\u001b[0;34m(self, key, method, tolerance)\u001b[0m\n\u001b[1;32m   3801\u001b[0m             \u001b[0;32mtry\u001b[0m\u001b[0;34m:\u001b[0m\u001b[0;34m\u001b[0m\u001b[0;34m\u001b[0m\u001b[0m\n\u001b[0;32m-> 3802\u001b[0;31m                 \u001b[0;32mreturn\u001b[0m \u001b[0mself\u001b[0m\u001b[0;34m.\u001b[0m\u001b[0m_engine\u001b[0m\u001b[0;34m.\u001b[0m\u001b[0mget_loc\u001b[0m\u001b[0;34m(\u001b[0m\u001b[0mcasted_key\u001b[0m\u001b[0;34m)\u001b[0m\u001b[0;34m\u001b[0m\u001b[0;34m\u001b[0m\u001b[0m\n\u001b[0m\u001b[1;32m   3803\u001b[0m             \u001b[0;32mexcept\u001b[0m \u001b[0mKeyError\u001b[0m \u001b[0;32mas\u001b[0m \u001b[0merr\u001b[0m\u001b[0;34m:\u001b[0m\u001b[0;34m\u001b[0m\u001b[0;34m\u001b[0m\u001b[0m\n",
            "\u001b[0;32m/usr/local/lib/python3.10/dist-packages/pandas/_libs/index.pyx\u001b[0m in \u001b[0;36mpandas._libs.index.IndexEngine.get_loc\u001b[0;34m()\u001b[0m\n",
            "\u001b[0;32m/usr/local/lib/python3.10/dist-packages/pandas/_libs/index.pyx\u001b[0m in \u001b[0;36mpandas._libs.index.IndexEngine.get_loc\u001b[0;34m()\u001b[0m\n",
            "\u001b[0;32mpandas/_libs/hashtable_class_helper.pxi\u001b[0m in \u001b[0;36mpandas._libs.hashtable.PyObjectHashTable.get_item\u001b[0;34m()\u001b[0m\n",
            "\u001b[0;32mpandas/_libs/hashtable_class_helper.pxi\u001b[0m in \u001b[0;36mpandas._libs.hashtable.PyObjectHashTable.get_item\u001b[0;34m()\u001b[0m\n",
            "\u001b[0;31mKeyError\u001b[0m: 'YourOrdinalColumn'",
            "\nThe above exception was the direct cause of the following exception:\n",
            "\u001b[0;31mKeyError\u001b[0m                                  Traceback (most recent call last)",
            "\u001b[0;32m<ipython-input-37-3a66e04dc2c8>\u001b[0m in \u001b[0;36m<cell line: 9>\u001b[0;34m()\u001b[0m\n\u001b[1;32m      7\u001b[0m \u001b[0;34m\u001b[0m\u001b[0m\n\u001b[1;32m      8\u001b[0m \u001b[0;31m# Apply label encoding to each ordinal column\u001b[0m\u001b[0;34m\u001b[0m\u001b[0;34m\u001b[0m\u001b[0m\n\u001b[0;32m----> 9\u001b[0;31m \u001b[0mdf\u001b[0m\u001b[0;34m[\u001b[0m\u001b[0;34m'YourOrdinalColumn'\u001b[0m\u001b[0;34m]\u001b[0m \u001b[0;34m=\u001b[0m \u001b[0mlabel_encoder\u001b[0m\u001b[0;34m.\u001b[0m\u001b[0mfit_transform\u001b[0m\u001b[0;34m(\u001b[0m\u001b[0mdf\u001b[0m\u001b[0;34m[\u001b[0m\u001b[0;34m'YourOrdinalColumn'\u001b[0m\u001b[0;34m]\u001b[0m\u001b[0;34m)\u001b[0m\u001b[0;34m\u001b[0m\u001b[0;34m\u001b[0m\u001b[0m\n\u001b[0m\u001b[1;32m     10\u001b[0m \u001b[0;34m\u001b[0m\u001b[0m\n\u001b[1;32m     11\u001b[0m \u001b[0;31m# Display the updated DataFrame with label encoding\u001b[0m\u001b[0;34m\u001b[0m\u001b[0;34m\u001b[0m\u001b[0m\n",
            "\u001b[0;32m/usr/local/lib/python3.10/dist-packages/pandas/core/frame.py\u001b[0m in \u001b[0;36m__getitem__\u001b[0;34m(self, key)\u001b[0m\n\u001b[1;32m   3805\u001b[0m             \u001b[0;32mif\u001b[0m \u001b[0mself\u001b[0m\u001b[0;34m.\u001b[0m\u001b[0mcolumns\u001b[0m\u001b[0;34m.\u001b[0m\u001b[0mnlevels\u001b[0m \u001b[0;34m>\u001b[0m \u001b[0;36m1\u001b[0m\u001b[0;34m:\u001b[0m\u001b[0;34m\u001b[0m\u001b[0;34m\u001b[0m\u001b[0m\n\u001b[1;32m   3806\u001b[0m                 \u001b[0;32mreturn\u001b[0m \u001b[0mself\u001b[0m\u001b[0;34m.\u001b[0m\u001b[0m_getitem_multilevel\u001b[0m\u001b[0;34m(\u001b[0m\u001b[0mkey\u001b[0m\u001b[0;34m)\u001b[0m\u001b[0;34m\u001b[0m\u001b[0;34m\u001b[0m\u001b[0m\n\u001b[0;32m-> 3807\u001b[0;31m             \u001b[0mindexer\u001b[0m \u001b[0;34m=\u001b[0m \u001b[0mself\u001b[0m\u001b[0;34m.\u001b[0m\u001b[0mcolumns\u001b[0m\u001b[0;34m.\u001b[0m\u001b[0mget_loc\u001b[0m\u001b[0;34m(\u001b[0m\u001b[0mkey\u001b[0m\u001b[0;34m)\u001b[0m\u001b[0;34m\u001b[0m\u001b[0;34m\u001b[0m\u001b[0m\n\u001b[0m\u001b[1;32m   3808\u001b[0m             \u001b[0;32mif\u001b[0m \u001b[0mis_integer\u001b[0m\u001b[0;34m(\u001b[0m\u001b[0mindexer\u001b[0m\u001b[0;34m)\u001b[0m\u001b[0;34m:\u001b[0m\u001b[0;34m\u001b[0m\u001b[0;34m\u001b[0m\u001b[0m\n\u001b[1;32m   3809\u001b[0m                 \u001b[0mindexer\u001b[0m \u001b[0;34m=\u001b[0m \u001b[0;34m[\u001b[0m\u001b[0mindexer\u001b[0m\u001b[0;34m]\u001b[0m\u001b[0;34m\u001b[0m\u001b[0;34m\u001b[0m\u001b[0m\n",
            "\u001b[0;32m/usr/local/lib/python3.10/dist-packages/pandas/core/indexes/base.py\u001b[0m in \u001b[0;36mget_loc\u001b[0;34m(self, key, method, tolerance)\u001b[0m\n\u001b[1;32m   3802\u001b[0m                 \u001b[0;32mreturn\u001b[0m \u001b[0mself\u001b[0m\u001b[0;34m.\u001b[0m\u001b[0m_engine\u001b[0m\u001b[0;34m.\u001b[0m\u001b[0mget_loc\u001b[0m\u001b[0;34m(\u001b[0m\u001b[0mcasted_key\u001b[0m\u001b[0;34m)\u001b[0m\u001b[0;34m\u001b[0m\u001b[0;34m\u001b[0m\u001b[0m\n\u001b[1;32m   3803\u001b[0m             \u001b[0;32mexcept\u001b[0m \u001b[0mKeyError\u001b[0m \u001b[0;32mas\u001b[0m \u001b[0merr\u001b[0m\u001b[0;34m:\u001b[0m\u001b[0;34m\u001b[0m\u001b[0;34m\u001b[0m\u001b[0m\n\u001b[0;32m-> 3804\u001b[0;31m                 \u001b[0;32mraise\u001b[0m \u001b[0mKeyError\u001b[0m\u001b[0;34m(\u001b[0m\u001b[0mkey\u001b[0m\u001b[0;34m)\u001b[0m \u001b[0;32mfrom\u001b[0m \u001b[0merr\u001b[0m\u001b[0;34m\u001b[0m\u001b[0;34m\u001b[0m\u001b[0m\n\u001b[0m\u001b[1;32m   3805\u001b[0m             \u001b[0;32mexcept\u001b[0m \u001b[0mTypeError\u001b[0m\u001b[0;34m:\u001b[0m\u001b[0;34m\u001b[0m\u001b[0;34m\u001b[0m\u001b[0m\n\u001b[1;32m   3806\u001b[0m                 \u001b[0;31m# If we have a listlike key, _check_indexing_error will raise\u001b[0m\u001b[0;34m\u001b[0m\u001b[0;34m\u001b[0m\u001b[0m\n",
            "\u001b[0;31mKeyError\u001b[0m: 'YourOrdinalColumn'"
          ]
        }
      ]
    },
    {
      "cell_type": "markdown",
      "source": [
        "15. Consistent Rating Scale:"
      ],
      "metadata": {
        "id": "mu--R67KYGRj"
      }
    },
    {
      "cell_type": "code",
      "source": [
        "df['Rating_normalized'] = (df['Rating'] - df['Rating'].min()) / (df['Rating'].max() - df['Rating'].min())\n",
        "\n",
        "# Display the updated DataFrame with normalized ratings\n",
        "print(df[['Rating', 'Rating_normalized']])\n",
        "\n"
      ],
      "metadata": {
        "id": "Ytt9evlgYFJf",
        "outputId": "9e52fcea-b7f0-455f-f251-11671b15d261",
        "colab": {
          "base_uri": "https://localhost:8080/"
        }
      },
      "execution_count": 38,
      "outputs": [
        {
          "output_type": "stream",
          "name": "stdout",
          "text": [
            "    Rating  Rating_normalized\n",
            "0      5.4           0.727273\n",
            "1      3.5           0.511364\n",
            "2     -1.0           0.000000\n",
            "3      4.4           0.613636\n",
            "4      6.4           0.840909\n",
            "5      1.4           0.272727\n",
            "6      0.0           0.113636\n",
            "7     -1.0           0.000000\n",
            "8      5.4           0.727273\n",
            "9      7.7           0.988636\n",
            "10     5.4           0.727273\n",
            "11     6.7           0.875000\n",
            "12     0.0           0.113636\n",
            "13    -1.0           0.000000\n",
            "14     4.0           0.568182\n",
            "15     3.0           0.454545\n",
            "16     4.5           0.625000\n",
            "17     5.3           0.715909\n",
            "18     6.7           0.875000\n",
            "19     3.3           0.488636\n",
            "20     5.7           0.761364\n",
            "21     5.0           0.681818\n",
            "22     7.8           1.000000\n",
            "23     2.4           0.386364\n",
            "24    -1.0           0.000000\n",
            "25     0.0           0.113636\n",
            "26     NaN                NaN\n",
            "27     5.4           0.727273\n",
            "28     3.4           0.500000\n"
          ]
        }
      ]
    },
    {
      "cell_type": "code",
      "source": [
        "# Adjust the scale by multiplying or dividing all ratings by a factor\n",
        "scale_factor = 10  # You can adjust this factor based on your analysis requirements\n",
        "df['Adjusted_Rating'] = df['Rating'] * scale_factor\n",
        "\n",
        "# Display the updated DataFrame with adjusted ratings\n",
        "print(df[['Rating', 'Adjusted_Rating']])\n"
      ],
      "metadata": {
        "id": "-Yl1sh6jYgLH",
        "outputId": "e6e2b233-2b04-40bd-f941-e675aee73f1d",
        "colab": {
          "base_uri": "https://localhost:8080/"
        }
      },
      "execution_count": 39,
      "outputs": [
        {
          "output_type": "stream",
          "name": "stdout",
          "text": [
            "    Rating  Adjusted_Rating\n",
            "0      5.4             54.0\n",
            "1      3.5             35.0\n",
            "2     -1.0            -10.0\n",
            "3      4.4             44.0\n",
            "4      6.4             64.0\n",
            "5      1.4             14.0\n",
            "6      0.0              0.0\n",
            "7     -1.0            -10.0\n",
            "8      5.4             54.0\n",
            "9      7.7             77.0\n",
            "10     5.4             54.0\n",
            "11     6.7             67.0\n",
            "12     0.0              0.0\n",
            "13    -1.0            -10.0\n",
            "14     4.0             40.0\n",
            "15     3.0             30.0\n",
            "16     4.5             45.0\n",
            "17     5.3             53.0\n",
            "18     6.7             67.0\n",
            "19     3.3             33.0\n",
            "20     5.7             57.0\n",
            "21     5.0             50.0\n",
            "22     7.8             78.0\n",
            "23     2.4             24.0\n",
            "24    -1.0            -10.0\n",
            "25     0.0              0.0\n",
            "26     NaN              NaN\n",
            "27     5.4             54.0\n",
            "28     3.4             34.0\n"
          ]
        }
      ]
    }
  ]
}